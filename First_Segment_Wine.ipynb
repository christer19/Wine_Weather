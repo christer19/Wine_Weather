{
  "nbformat": 4,
  "nbformat_minor": 0,
  "metadata": {
    "colab": {
      "name": "First_Segment_Wine.ipynb",
      "provenance": [],
      "collapsed_sections": []
    },
    "kernelspec": {
      "name": "python3",
      "display_name": "Python 3"
    }
  },
  "cells": [
    {
      "cell_type": "code",
      "metadata": {
        "id": "izaqXfu8KHod",
        "outputId": "53febd20-faf3-467a-c3c5-08f34ee08215",
        "colab": {
          "base_uri": "https://localhost:8080/",
          "height": 255
        }
      },
      "source": [
        "import os\n",
        "# Find the latest version of spark 3.0  from http://www-us.apache.org/dist/spark/ and enter as the spark version\n",
        "# For example:\n",
        "# spark_version = 'spark-3.0.1'\n",
        "spark_version = 'spark-3.0.1'\n",
        "os.environ['SPARK_VERSION']=spark_version\n",
        "\n",
        "# Install Spark and Java\n",
        "!apt-get update\n",
        "!apt-get install openjdk-11-jdk-headless -qq > /dev/null\n",
        "!wget -q http://www-us.apache.org/dist/spark/$SPARK_VERSION/$SPARK_VERSION-bin-hadoop2.7.tgz\n",
        "!tar xf $SPARK_VERSION-bin-hadoop2.7.tgz\n",
        "!pip install -q findspark\n",
        "\n",
        "# Set Environment Variables\n",
        "import os\n",
        "os.environ[\"JAVA_HOME\"] = \"/usr/lib/jvm/java-11-openjdk-amd64\"\n",
        "os.environ[\"SPARK_HOME\"] = f\"/content/{spark_version}-bin-hadoop2.7\"\n",
        "\n",
        "# Start a SparkSession\n",
        "import findspark\n",
        "findspark.init()"
      ],
      "execution_count": 1,
      "outputs": [
        {
          "output_type": "stream",
          "text": [
            "\r0% [Working]\r            \rHit:1 https://cloud.r-project.org/bin/linux/ubuntu bionic-cran40/ InRelease\n",
            "Ign:2 https://developer.download.nvidia.com/compute/cuda/repos/ubuntu1804/x86_64  InRelease\n",
            "Ign:3 https://developer.download.nvidia.com/compute/machine-learning/repos/ubuntu1804/x86_64  InRelease\n",
            "Hit:4 https://developer.download.nvidia.com/compute/cuda/repos/ubuntu1804/x86_64  Release\n",
            "Hit:5 https://developer.download.nvidia.com/compute/machine-learning/repos/ubuntu1804/x86_64  Release\n",
            "Hit:6 http://ppa.launchpad.net/c2d4u.team/c2d4u4.0+/ubuntu bionic InRelease\n",
            "Get:7 http://security.ubuntu.com/ubuntu bionic-security InRelease [88.7 kB]\n",
            "Hit:9 http://archive.ubuntu.com/ubuntu bionic InRelease\n",
            "Hit:11 http://ppa.launchpad.net/graphics-drivers/ppa/ubuntu bionic InRelease\n",
            "Get:12 http://archive.ubuntu.com/ubuntu bionic-updates InRelease [88.7 kB]\n",
            "Get:13 http://archive.ubuntu.com/ubuntu bionic-backports InRelease [74.6 kB]\n",
            "Fetched 252 kB in 2s (114 kB/s)\n",
            "Reading package lists... Done\n"
          ],
          "name": "stdout"
        }
      ]
    },
    {
      "cell_type": "code",
      "metadata": {
        "id": "XZmtY1mjKbPV",
        "outputId": "8a47b405-fa52-4ed2-c013-f44a1f5135b8",
        "colab": {
          "base_uri": "https://localhost:8080/",
          "height": 222
        }
      },
      "source": [
        "!wget https://jdbc.postgresql.org/download/postgresql-42.2.16.jar"
      ],
      "execution_count": 2,
      "outputs": [
        {
          "output_type": "stream",
          "text": [
            "--2020-10-18 17:39:58--  https://jdbc.postgresql.org/download/postgresql-42.2.16.jar\n",
            "Resolving jdbc.postgresql.org (jdbc.postgresql.org)... 72.32.157.228, 2001:4800:3e1:1::228\n",
            "Connecting to jdbc.postgresql.org (jdbc.postgresql.org)|72.32.157.228|:443... connected.\n",
            "HTTP request sent, awaiting response... 200 OK\n",
            "Length: 1002883 (979K) [application/java-archive]\n",
            "Saving to: ‘postgresql-42.2.16.jar.1’\n",
            "\n",
            "postgresql-42.2.16. 100%[===================>] 979.38K  1009KB/s    in 1.0s    \n",
            "\n",
            "2020-10-18 17:40:00 (1009 KB/s) - ‘postgresql-42.2.16.jar.1’ saved [1002883/1002883]\n",
            "\n"
          ],
          "name": "stdout"
        }
      ]
    },
    {
      "cell_type": "code",
      "metadata": {
        "id": "z1gzAQkzKgRp"
      },
      "source": [
        "from pyspark.sql import SparkSession\n",
        "spark = SparkSession.builder.appName(\"Wine\").config(\"spark.driver.extraClassPath\",\"/content/postgresql-42.2.16.jar\").getOrCreate()"
      ],
      "execution_count": 3,
      "outputs": []
    },
    {
      "cell_type": "code",
      "metadata": {
        "id": "U4nDbMncKkrB",
        "outputId": "91740ff5-eefc-40a4-dbb0-b2c309264954",
        "colab": {
          "base_uri": "https://localhost:8080/",
          "height": 306
        }
      },
      "source": [
        "# Read in data from S3 Buckets\n",
        "from pyspark import SparkFiles\n",
        "url =\"https://wine5-bucket.s3.us-east-2.amazonaws.com/Red_Wine_USA.csv\"\n",
        "spark.sparkContext.addFile(url)\n",
        "red_wine_df = spark.read.csv(SparkFiles.get(\"Red_Wine_USA.csv\"), sep=\",\", header=True)\n",
        "\n",
        "#Show DataFrame\n",
        "red_wine_df.show(10)"
      ],
      "execution_count": 4,
      "outputs": [
        {
          "output_type": "stream",
          "text": [
            "+---+--------------------+-------+--------------------+-----+----------+-------+-------+-----------+-----+----------------+----------------+\n",
            "|_c0|                wine|wine_id|         appellation|color|   regions|country|vintage|is_primeurs|score|confidence_index|journalist_count|\n",
            "+---+--------------------+-------+--------------------+-----+----------+-------+-------+-----------+-----+----------------+----------------+\n",
            "|  0|Ridge Vineyards, ...| 120786|Santa Cruz Mountains|  Red|California|    Usa|   2013|      False|95.83|              C+|               8|\n",
            "|  1|Quintessa, Ruther...| 118360|          Rutherford|  Red|California|    Usa|   2015|      False|95.77|               C|               3|\n",
            "|  2|Harlan Estate, Na...|  81980|         Napa Valley|  Red|California|    Usa|   2001|      False|98.89|              A+|               6|\n",
            "|  3|Dalla Valle Viney...|  48290|         Napa Valley|  Red|California|    Usa|   2001|      False|96.49|              B+|               5|\n",
            "|  4|Philip Togni Vine...| 115154|         Napa Valley|  Red|California|    Usa|   2001|      False| 96.2|               B|               3|\n",
            "|  5|Colgin Cellars, C...|  44618|         Napa Valley|  Red|California|    Usa|   2001|      False| 95.6|               B|               5|\n",
            "|  6|Sloan, Proprietar...| 128313|          Rutherford|  Red|California|    Usa|   2001|      False|95.19|              C+|               3|\n",
            "|  7|Shafer Vineyards,...| 126746| Stags Leap District|  Red|California|    Usa|   2001|      False|93.69|               C|               6|\n",
            "|  8|Dalla Valle Viney...|  48287|         Napa Valley|  Red|California|    Usa|   2001|      False|93.66|              B+|               5|\n",
            "|  9|Dominus Estate, C...|  67008|         Napa Valley|  Red|California|    Usa|   2001|      False| 93.6|               B|              10|\n",
            "+---+--------------------+-------+--------------------+-----+----------+-------+-------+-----------+-----+----------------+----------------+\n",
            "only showing top 10 rows\n",
            "\n"
          ],
          "name": "stdout"
        }
      ]
    },
    {
      "cell_type": "code",
      "metadata": {
        "id": "4JnwSZK5TYpZ"
      },
      "source": [
        ""
      ],
      "execution_count": 4,
      "outputs": []
    },
    {
      "cell_type": "code",
      "metadata": {
        "id": "S88W1ozOTcRB",
        "outputId": "49fb751c-0d68-47bc-f1f5-b3760a45be77",
        "colab": {
          "base_uri": "https://localhost:8080/",
          "height": 306
        }
      },
      "source": [
        "# Read in data from S3 Buckets\n",
        "from pyspark import SparkFiles\n",
        "url =\"https://wine5-bucket.s3.us-east-2.amazonaws.com/White_Wine_USA.csv\"\n",
        "spark.sparkContext.addFile(url)\n",
        "white_wine_df = spark.read.csv(SparkFiles.get(\"White_Wine_USA.csv\"), sep=\",\", header=True)\n",
        "\n",
        "#Show DataFrame\n",
        "white_wine_df.show(10)"
      ],
      "execution_count": 5,
      "outputs": [
        {
          "output_type": "stream",
          "text": [
            "+---+--------------------+-------+--------------------+-----+----------+-------+-------+-----------+-----+----------------+----------------+\n",
            "|_c0|                wine|wine_id|         appellation|color|   regions|country|vintage|is_primeurs|score|confidence_index|journalist_count|\n",
            "+---+--------------------+-------+--------------------+-----+----------+-------+-------+-----------+-----+----------------+----------------+\n",
            "|  0|Ridge Vineyards, ...| 120785|Santa Cruz Mountains|White|California|    Usa|   2016|      False|94.39|               B|               3|\n",
            "|  1|Stags' Leap Winer...| 129823|         Napa Valley|White|California|    Usa|   2016|      False|89.83|              A+|               3|\n",
            "|  2|Joseph Phelps Vin...|  89569|        Sonoma Coast|White|California|    Usa|   2016|      False|90.73|              C+|               4|\n",
            "|  3|Crossbarn By Paul...|  47377|        Sonoma Coast|White|California|    Usa|   2016|      False|90.39|              B+|               3|\n",
            "|  4|Mount Eden Vineya...| 107658|Santa Cruz Mountains|White|California|    Usa|   2015|      False|92.22|               B|               4|\n",
            "|  5|Paul Hobbs, Chard...| 113414|Russian River Valley|White|California|    Usa|   2016|      False|90.39|              B+|               3|\n",
            "|  6|Ridge Vineyards E...| 120758|Santa Cruz Mountains|White|California|    Usa|   2016|      False|92.81|              A+|               3|\n",
            "|  7|Pahlmeyer, Napa V...| 111897|         Napa Valley|White|California|    Usa|   2015|      False|92.83|              C+|               4|\n",
            "|  8|Marcassin, Lorenz...| 101640|        Sonoma Coast|White|California|    Usa|   1993|      False|92.07|               C|               3|\n",
            "|  9|Marcassin, Lorenz...| 101640|        Sonoma Coast|White|California|    Usa|   1998|      False|91.74|               B|               4|\n",
            "+---+--------------------+-------+--------------------+-----+----------+-------+-------+-----------+-----+----------------+----------------+\n",
            "only showing top 10 rows\n",
            "\n"
          ],
          "name": "stdout"
        }
      ]
    },
    {
      "cell_type": "code",
      "metadata": {
        "id": "fiBEoy1SPNVf",
        "outputId": "8d497b11-c01d-4b12-e62b-ac5d25de57d6",
        "colab": {
          "base_uri": "https://localhost:8080/",
          "height": 306
        }
      },
      "source": [
        "red_wine_df= red_wine_df.drop('wine_type', 'classification')\n",
        "red_wine_df.show(10)"
      ],
      "execution_count": 6,
      "outputs": [
        {
          "output_type": "stream",
          "text": [
            "+---+--------------------+-------+--------------------+-----+----------+-------+-------+-----------+-----+----------------+----------------+\n",
            "|_c0|                wine|wine_id|         appellation|color|   regions|country|vintage|is_primeurs|score|confidence_index|journalist_count|\n",
            "+---+--------------------+-------+--------------------+-----+----------+-------+-------+-----------+-----+----------------+----------------+\n",
            "|  0|Ridge Vineyards, ...| 120786|Santa Cruz Mountains|  Red|California|    Usa|   2013|      False|95.83|              C+|               8|\n",
            "|  1|Quintessa, Ruther...| 118360|          Rutherford|  Red|California|    Usa|   2015|      False|95.77|               C|               3|\n",
            "|  2|Harlan Estate, Na...|  81980|         Napa Valley|  Red|California|    Usa|   2001|      False|98.89|              A+|               6|\n",
            "|  3|Dalla Valle Viney...|  48290|         Napa Valley|  Red|California|    Usa|   2001|      False|96.49|              B+|               5|\n",
            "|  4|Philip Togni Vine...| 115154|         Napa Valley|  Red|California|    Usa|   2001|      False| 96.2|               B|               3|\n",
            "|  5|Colgin Cellars, C...|  44618|         Napa Valley|  Red|California|    Usa|   2001|      False| 95.6|               B|               5|\n",
            "|  6|Sloan, Proprietar...| 128313|          Rutherford|  Red|California|    Usa|   2001|      False|95.19|              C+|               3|\n",
            "|  7|Shafer Vineyards,...| 126746| Stags Leap District|  Red|California|    Usa|   2001|      False|93.69|               C|               6|\n",
            "|  8|Dalla Valle Viney...|  48287|         Napa Valley|  Red|California|    Usa|   2001|      False|93.66|              B+|               5|\n",
            "|  9|Dominus Estate, C...|  67008|         Napa Valley|  Red|California|    Usa|   2001|      False| 93.6|               B|              10|\n",
            "+---+--------------------+-------+--------------------+-----+----------+-------+-------+-----------+-----+----------------+----------------+\n",
            "only showing top 10 rows\n",
            "\n"
          ],
          "name": "stdout"
        }
      ]
    },
    {
      "cell_type": "code",
      "metadata": {
        "id": "ZNiZiIPnS-PU",
        "outputId": "6e951513-8945-43bd-e6a7-d070fafdfbfc",
        "colab": {
          "base_uri": "https://localhost:8080/",
          "height": 34
        }
      },
      "source": [
        "red_wine_df.count()"
      ],
      "execution_count": 7,
      "outputs": [
        {
          "output_type": "execute_result",
          "data": {
            "text/plain": [
              "4364"
            ]
          },
          "metadata": {
            "tags": []
          },
          "execution_count": 7
        }
      ]
    },
    {
      "cell_type": "code",
      "metadata": {
        "id": "4bkStWFkT05m",
        "outputId": "bb3125cd-a594-4f74-aa3c-0947865f452b",
        "colab": {
          "base_uri": "https://localhost:8080/",
          "height": 34
        }
      },
      "source": [
        "white_wine_df.count()"
      ],
      "execution_count": 8,
      "outputs": [
        {
          "output_type": "execute_result",
          "data": {
            "text/plain": [
              "784"
            ]
          },
          "metadata": {
            "tags": []
          },
          "execution_count": 8
        }
      ]
    },
    {
      "cell_type": "code",
      "metadata": {
        "id": "_Is3C9hETLra",
        "outputId": "dd75e15c-cc5d-40fc-8d5d-134c72d1c27c",
        "colab": {
          "base_uri": "https://localhost:8080/",
          "height": 286
        }
      },
      "source": [
        "# Create Red Wine Table \n",
        "red_wine_df = red_wine_df.select([\"appellation\", \"regions\", \"vintage\", \"score\", \"confidence_index\", \"journalist_count\"])\n",
        "red_wine_df.show(10)"
      ],
      "execution_count": 9,
      "outputs": [
        {
          "output_type": "stream",
          "text": [
            "+--------------------+----------+-------+-----+----------------+----------------+\n",
            "|         appellation|   regions|vintage|score|confidence_index|journalist_count|\n",
            "+--------------------+----------+-------+-----+----------------+----------------+\n",
            "|Santa Cruz Mountains|California|   2013|95.83|              C+|               8|\n",
            "|          Rutherford|California|   2015|95.77|               C|               3|\n",
            "|         Napa Valley|California|   2001|98.89|              A+|               6|\n",
            "|         Napa Valley|California|   2001|96.49|              B+|               5|\n",
            "|         Napa Valley|California|   2001| 96.2|               B|               3|\n",
            "|         Napa Valley|California|   2001| 95.6|               B|               5|\n",
            "|          Rutherford|California|   2001|95.19|              C+|               3|\n",
            "| Stags Leap District|California|   2001|93.69|               C|               6|\n",
            "|         Napa Valley|California|   2001|93.66|              B+|               5|\n",
            "|         Napa Valley|California|   2001| 93.6|               B|              10|\n",
            "+--------------------+----------+-------+-----+----------------+----------------+\n",
            "only showing top 10 rows\n",
            "\n"
          ],
          "name": "stdout"
        }
      ]
    },
    {
      "cell_type": "code",
      "metadata": {
        "id": "bz6_zXdoyS9A",
        "outputId": "2986b92c-80c1-4952-d75f-a8b620e9097e",
        "colab": {
          "base_uri": "https://localhost:8080/",
          "height": 454
        }
      },
      "source": [
        "#Drop null values\n",
        "dropna_df = red_wine_df.dropna()\n",
        "dropna_df.show()"
      ],
      "execution_count": 10,
      "outputs": [
        {
          "output_type": "stream",
          "text": [
            "+--------------------+----------+-------+-----+----------------+----------------+\n",
            "|         appellation|   regions|vintage|score|confidence_index|journalist_count|\n",
            "+--------------------+----------+-------+-----+----------------+----------------+\n",
            "|Santa Cruz Mountains|California|   2013|95.83|              C+|               8|\n",
            "|          Rutherford|California|   2015|95.77|               C|               3|\n",
            "|         Napa Valley|California|   2001|98.89|              A+|               6|\n",
            "|         Napa Valley|California|   2001|96.49|              B+|               5|\n",
            "|         Napa Valley|California|   2001| 96.2|               B|               3|\n",
            "|         Napa Valley|California|   2001| 95.6|               B|               5|\n",
            "|          Rutherford|California|   2001|95.19|              C+|               3|\n",
            "| Stags Leap District|California|   2001|93.69|               C|               6|\n",
            "|         Napa Valley|California|   2001|93.66|              B+|               5|\n",
            "|         Napa Valley|California|   2001| 93.6|               B|              10|\n",
            "|         Napa Valley|California|   2001|93.25|              C+|               3|\n",
            "|       Sonoma County|California|   2001|92.37|               C|               3|\n",
            "|         Napa Valley|California|   2001| 92.2|              C+|               6|\n",
            "|         Napa Valley|California|   2001|91.88|               B|               8|\n",
            "|         Napa Valley|California|   2001|90.58|               B|               3|\n",
            "|Santa Cruz Mountains|California|   1991| 95.9|               B|               8|\n",
            "|         Napa Valley|California|   2009|95.09|              C+|               5|\n",
            "|         Napa Valley|California|   2010|98.41|               B|               8|\n",
            "|         Napa Valley|California|   2010|97.63|               B|               5|\n",
            "|         Napa Valley|California|   2010| 97.0|               A|               5|\n",
            "+--------------------+----------+-------+-----+----------------+----------------+\n",
            "only showing top 20 rows\n",
            "\n"
          ],
          "name": "stdout"
        }
      ]
    },
    {
      "cell_type": "code",
      "metadata": {
        "id": "D93E4x1pyfaK",
        "outputId": "667174b0-bdee-460d-c8fb-53a86d424419",
        "colab": {
          "base_uri": "https://localhost:8080/",
          "height": 454
        }
      },
      "source": [
        "#Drop null values\n",
        "white_dropna_df = white_wine_df.dropna()\n",
        "dropna_df.show()"
      ],
      "execution_count": 11,
      "outputs": [
        {
          "output_type": "stream",
          "text": [
            "+--------------------+----------+-------+-----+----------------+----------------+\n",
            "|         appellation|   regions|vintage|score|confidence_index|journalist_count|\n",
            "+--------------------+----------+-------+-----+----------------+----------------+\n",
            "|Santa Cruz Mountains|California|   2013|95.83|              C+|               8|\n",
            "|          Rutherford|California|   2015|95.77|               C|               3|\n",
            "|         Napa Valley|California|   2001|98.89|              A+|               6|\n",
            "|         Napa Valley|California|   2001|96.49|              B+|               5|\n",
            "|         Napa Valley|California|   2001| 96.2|               B|               3|\n",
            "|         Napa Valley|California|   2001| 95.6|               B|               5|\n",
            "|          Rutherford|California|   2001|95.19|              C+|               3|\n",
            "| Stags Leap District|California|   2001|93.69|               C|               6|\n",
            "|         Napa Valley|California|   2001|93.66|              B+|               5|\n",
            "|         Napa Valley|California|   2001| 93.6|               B|              10|\n",
            "|         Napa Valley|California|   2001|93.25|              C+|               3|\n",
            "|       Sonoma County|California|   2001|92.37|               C|               3|\n",
            "|         Napa Valley|California|   2001| 92.2|              C+|               6|\n",
            "|         Napa Valley|California|   2001|91.88|               B|               8|\n",
            "|         Napa Valley|California|   2001|90.58|               B|               3|\n",
            "|Santa Cruz Mountains|California|   1991| 95.9|               B|               8|\n",
            "|         Napa Valley|California|   2009|95.09|              C+|               5|\n",
            "|         Napa Valley|California|   2010|98.41|               B|               8|\n",
            "|         Napa Valley|California|   2010|97.63|               B|               5|\n",
            "|         Napa Valley|California|   2010| 97.0|               A|               5|\n",
            "+--------------------+----------+-------+-----+----------------+----------------+\n",
            "only showing top 20 rows\n",
            "\n"
          ],
          "name": "stdout"
        }
      ]
    },
    {
      "cell_type": "code",
      "metadata": {
        "id": "Y9eiDBSKU7sK",
        "outputId": "38dd0d46-10e1-441c-ff64-87132b37f8f0",
        "colab": {
          "base_uri": "https://localhost:8080/",
          "height": 454
        }
      },
      "source": [
        "# Load in a sql function to use columns\n",
        "from pyspark.sql.functions import col\n",
        "\n",
        "# Filter for only columns with journalist_count > 5\n",
        "cleaned_df = dropna_df.filter(col(\"journalist_count\") > 5)\n",
        "cleaned_df.show()"
      ],
      "execution_count": 12,
      "outputs": [
        {
          "output_type": "stream",
          "text": [
            "+--------------------+----------+-------+-----+----------------+----------------+\n",
            "|         appellation|   regions|vintage|score|confidence_index|journalist_count|\n",
            "+--------------------+----------+-------+-----+----------------+----------------+\n",
            "|Santa Cruz Mountains|California|   2013|95.83|              C+|               8|\n",
            "|         Napa Valley|California|   2001|98.89|              A+|               6|\n",
            "| Stags Leap District|California|   2001|93.69|               C|               6|\n",
            "|         Napa Valley|California|   2001| 93.6|               B|              10|\n",
            "|         Napa Valley|California|   2001| 92.2|              C+|               6|\n",
            "|         Napa Valley|California|   2001|91.88|               B|               8|\n",
            "|Santa Cruz Mountains|California|   1991| 95.9|               B|               8|\n",
            "|         Napa Valley|California|   2010|98.41|               B|               8|\n",
            "|         Napa Valley|California|   2010| 96.3|              C+|               9|\n",
            "|           St Helena|California|   2010| 96.2|               B|               8|\n",
            "| Stags Leap District|California|   2010|96.16|              C+|               8|\n",
            "|         Napa Valley|California|   2010|95.99|               B|               8|\n",
            "|         Napa Valley|California|   2010|95.31|              B+|               8|\n",
            "|         Napa Valley|California|   2010|94.62|               B|               6|\n",
            "|Santa Cruz Mountains|California|   2010|94.41|               B|               9|\n",
            "|         Napa Valley|California|   2010|94.19|               A|               7|\n",
            "| Stags Leap District|California|   2010|93.29|               B|               6|\n",
            "|         Napa Valley|California|   2010|92.78|               B|               9|\n",
            "|         Napa Valley|California|   2010| 92.7|              B+|               8|\n",
            "|          Rutherford|California|   2010|92.67|              B+|               6|\n",
            "+--------------------+----------+-------+-----+----------------+----------------+\n",
            "only showing top 20 rows\n",
            "\n"
          ],
          "name": "stdout"
        }
      ]
    },
    {
      "cell_type": "code",
      "metadata": {
        "id": "9M34yNEPyrhx",
        "outputId": "6be59590-d4d0-4fc3-ac0e-7f3c1cfa1bcd",
        "colab": {
          "base_uri": "https://localhost:8080/",
          "height": 34
        }
      },
      "source": [
        "cleaned_df.count()"
      ],
      "execution_count": 13,
      "outputs": [
        {
          "output_type": "execute_result",
          "data": {
            "text/plain": [
              "446"
            ]
          },
          "metadata": {
            "tags": []
          },
          "execution_count": 13
        }
      ]
    }
  ]
}