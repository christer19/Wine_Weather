{
 "cells": [
  {
   "cell_type": "markdown",
   "metadata": {},
   "source": [
    "# Calculation-Normalization Process\n",
    "The Global Wine Score scale takes into account wine rated by different pools of critics(French critics vs English critics vs American critics), the severity of each critic(some critics might be harsher than other critics), and the evolution of wine ratings.\n",
    "\n",
    "It does this by normalizing data. Normalize data from diff critics(Analyze Cumulative Distribution Function) CDF of the ratings. If critic A graded more harshly and crtic B graded liently then the CDF process would balance those. The score can be applied to any critic by converting to the Robert Parker 100 pt scale. "
   ]
  },
  {
   "cell_type": "markdown",
   "metadata": {},
   "source": [
    "## Countries and Regions:\n",
    "Spain   \n",
    "    Region: Spain <p>\n",
    "Usa    \n",
    "    Region: California, Washington, Oregon <p>\n",
    "Italy   \n",
    "    Region: Tuscany, Piedmont, Sicily, Veneto, Campania, Umbria <p>\n",
    "Lebanon  \n",
    "    Region: Lebanon <p>\n",
    "France   \n",
    "    Region: Bordeaux, Bourgogne, Rhone, Beaujolais, Languedoc Roussillon, Loire, Provence<p>\n",
    "New Zealand  \n",
    "    Region: New Zealand, Central Otago<p>\n",
    "Chile   \n",
    "    Region: Chile <p>\n",
    "Argentina  \n",
    "    Region: Mendoza, Argentina<p>\n",
    "Australia   \n",
    "    Region: Australia <p>\n",
    "South Africa   \n",
    "    Region: Coastal Region, Western Cape <p>\n",
    "China   \n",
    "    Region: Yunnan <p>\n",
    "Portugal   \n",
    "    Region:Duro Valley <p>"
   ]
  },
  {
   "cell_type": "markdown",
   "metadata": {},
   "source": [
    "## Definitions: <p>\n",
    "    appellation-name or title <p>\n",
    "    is_primeurs-wine still in barrel <p>\n",
    "    lwin-unique identification code for wine <p>"
   ]
  },
  {
   "cell_type": "markdown",
   "metadata": {},
   "source": [
    "# Colors:\n",
    "Red, White, Pink"
   ]
  },
  {
   "cell_type": "markdown",
   "metadata": {},
   "source": [
    "# Type:\n",
    "Dry, Sweet, Sparkling, Port"
   ]
  },
  {
   "cell_type": "code",
   "execution_count": null,
   "metadata": {},
   "outputs": [],
   "source": []
  }
 ],
 "metadata": {
  "kernelspec": {
   "display_name": "PythonData",
   "language": "python",
   "name": "pythondata"
  },
  "language_info": {
   "codemirror_mode": {
    "name": "ipython",
    "version": 3
   },
   "file_extension": ".py",
   "mimetype": "text/x-python",
   "name": "python",
   "nbconvert_exporter": "python",
   "pygments_lexer": "ipython3",
   "version": "3.7.7"
  }
 },
 "nbformat": 4,
 "nbformat_minor": 4
}
