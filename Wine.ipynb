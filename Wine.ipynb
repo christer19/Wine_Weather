{
 "cells": [
  {
   "cell_type": "code",
   "execution_count": 1,
   "metadata": {},
   "outputs": [],
   "source": [
    "# Import the requests library.\n",
    "import requests\n",
    "import numpy as np\n",
    "import pandas as pd\n",
    "# Import the requests library.\n",
    "import requests\n",
    "import datetime\n",
    "from datetime import datetime\n",
    "import matplotlib.pyplot as plt\n",
    "# Dependencies for the wine API\n",
    "import urllib\n",
    "import json\n",
    "# Import the API key.\n",
    "from config import weather_api_key"
   ]
  },
  {
   "cell_type": "markdown",
   "metadata": {},
   "source": [
    "## Dropped Columns\n",
    "Wine and wine_slug appear to be the same columns <p>\n",
    "appellation and appellation_slug appear to be the same columns <p>\n",
    "wine_type is blank <p>\n",
    "classification has several NA values <p>\n",
    "lwin and lwin_11 are unique identifiers for that particular wine <p>"
   ]
  },
  {
   "cell_type": "code",
   "execution_count": 2,
   "metadata": {},
   "outputs": [],
   "source": [
    "# Import the API key.\n",
    "API_Token='Token d8f94b93417333267ca0edcca7dc14a9e035e1bb'\n",
    "headers = {\n",
    "    'accept': 'application/json',\n",
    "    'authorization': API_Token\n",
    "    }"
   ]
  },
  {
   "cell_type": "markdown",
   "metadata": {},
   "source": [
    "# Red Wine in USA"
   ]
  },
  {
   "cell_type": "code",
   "execution_count": 3,
   "metadata": {},
   "outputs": [
    {
     "data": {
      "text/html": [
       "<div>\n",
       "<style scoped>\n",
       "    .dataframe tbody tr th:only-of-type {\n",
       "        vertical-align: middle;\n",
       "    }\n",
       "\n",
       "    .dataframe tbody tr th {\n",
       "        vertical-align: top;\n",
       "    }\n",
       "\n",
       "    .dataframe thead th {\n",
       "        text-align: right;\n",
       "    }\n",
       "</style>\n",
       "<table border=\"1\" class=\"dataframe\">\n",
       "  <thead>\n",
       "    <tr style=\"text-align: right;\">\n",
       "      <th></th>\n",
       "      <th>wine</th>\n",
       "      <th>wine_id</th>\n",
       "      <th>appellation</th>\n",
       "      <th>color</th>\n",
       "      <th>wine_type</th>\n",
       "      <th>regions</th>\n",
       "      <th>country</th>\n",
       "      <th>classification</th>\n",
       "      <th>vintage</th>\n",
       "      <th>is_primeurs</th>\n",
       "      <th>score</th>\n",
       "      <th>confidence_index</th>\n",
       "      <th>journalist_count</th>\n",
       "    </tr>\n",
       "  </thead>\n",
       "  <tbody>\n",
       "    <tr>\n",
       "      <th>0</th>\n",
       "      <td>Quintessa, Rutherford</td>\n",
       "      <td>118360</td>\n",
       "      <td>Rutherford</td>\n",
       "      <td>Red</td>\n",
       "      <td></td>\n",
       "      <td>[California]</td>\n",
       "      <td>Usa</td>\n",
       "      <td>None</td>\n",
       "      <td>2015-01-01</td>\n",
       "      <td>False</td>\n",
       "      <td>95.77</td>\n",
       "      <td>C</td>\n",
       "      <td>3</td>\n",
       "    </tr>\n",
       "    <tr>\n",
       "      <th>1</th>\n",
       "      <td>Harlan Estate, Napa Valley</td>\n",
       "      <td>81980</td>\n",
       "      <td>Napa Valley</td>\n",
       "      <td>Red</td>\n",
       "      <td></td>\n",
       "      <td>[California]</td>\n",
       "      <td>Usa</td>\n",
       "      <td>None</td>\n",
       "      <td>2001-01-01</td>\n",
       "      <td>False</td>\n",
       "      <td>98.89</td>\n",
       "      <td>A+</td>\n",
       "      <td>6</td>\n",
       "    </tr>\n",
       "    <tr>\n",
       "      <th>2</th>\n",
       "      <td>Dalla Valle Vineyards, Maya, Napa Valley</td>\n",
       "      <td>48290</td>\n",
       "      <td>Napa Valley</td>\n",
       "      <td>Red</td>\n",
       "      <td></td>\n",
       "      <td>[California]</td>\n",
       "      <td>Usa</td>\n",
       "      <td>None</td>\n",
       "      <td>2001-01-01</td>\n",
       "      <td>False</td>\n",
       "      <td>96.49</td>\n",
       "      <td>B+</td>\n",
       "      <td>5</td>\n",
       "    </tr>\n",
       "    <tr>\n",
       "      <th>3</th>\n",
       "      <td>Philip Togni Vineyard, Cabernet Sauvignon, Nap...</td>\n",
       "      <td>115154</td>\n",
       "      <td>Napa Valley</td>\n",
       "      <td>Red</td>\n",
       "      <td></td>\n",
       "      <td>[California]</td>\n",
       "      <td>Usa</td>\n",
       "      <td>None</td>\n",
       "      <td>2001-01-01</td>\n",
       "      <td>False</td>\n",
       "      <td>96.20</td>\n",
       "      <td>B</td>\n",
       "      <td>3</td>\n",
       "    </tr>\n",
       "    <tr>\n",
       "      <th>4</th>\n",
       "      <td>Colgin Cellars, Cariad Red, Napa Valley</td>\n",
       "      <td>44618</td>\n",
       "      <td>Napa Valley</td>\n",
       "      <td>Red</td>\n",
       "      <td></td>\n",
       "      <td>[California]</td>\n",
       "      <td>Usa</td>\n",
       "      <td>None</td>\n",
       "      <td>2001-01-01</td>\n",
       "      <td>False</td>\n",
       "      <td>95.60</td>\n",
       "      <td>B</td>\n",
       "      <td>5</td>\n",
       "    </tr>\n",
       "  </tbody>\n",
       "</table>\n",
       "</div>"
      ],
      "text/plain": [
       "                                                wine  wine_id  appellation  \\\n",
       "0                              Quintessa, Rutherford   118360   Rutherford   \n",
       "1                         Harlan Estate, Napa Valley    81980  Napa Valley   \n",
       "2           Dalla Valle Vineyards, Maya, Napa Valley    48290  Napa Valley   \n",
       "3  Philip Togni Vineyard, Cabernet Sauvignon, Nap...   115154  Napa Valley   \n",
       "4            Colgin Cellars, Cariad Red, Napa Valley    44618  Napa Valley   \n",
       "\n",
       "  color wine_type       regions country classification    vintage  \\\n",
       "0   Red            [California]     Usa           None 2015-01-01   \n",
       "1   Red            [California]     Usa           None 2001-01-01   \n",
       "2   Red            [California]     Usa           None 2001-01-01   \n",
       "3   Red            [California]     Usa           None 2001-01-01   \n",
       "4   Red            [California]     Usa           None 2001-01-01   \n",
       "\n",
       "   is_primeurs  score confidence_index  journalist_count  \n",
       "0        False  95.77                C                 3  \n",
       "1        False  98.89               A+                 6  \n",
       "2        False  96.49               B+                 5  \n",
       "3        False  96.20                B                 3  \n",
       "4        False  95.60                B                 5  "
      ]
     },
     "execution_count": 3,
     "metadata": {},
     "output_type": "execute_result"
    }
   ],
   "source": [
    "req_red_USA = urllib.request.Request('https://api.globalwinescore.com/globalwinescores/latest/?color=red&limit=5000&country=Usa', data=None, headers=headers, origin_req_host=None, unverifiable=False, method=None)\n",
    "res_red_USA = urllib.request.urlopen(req_red_USA).read().decode()\n",
    "obj_red_USA = json.loads(res_red_USA)\n",
    "#read json into DF\n",
    "Red_USA_df = pd.DataFrame.from_dict(obj_red_USA['results'], orient='columns')\n",
    "# To delete the column without having to reassign df you can do:\n",
    "Red_USA_df.drop([ 'wine_slug', 'appellation_slug',  'date',  'lwin', 'lwin_11'],axis=1, inplace=True)\n",
    "#'wine_id','wine_type','classification',\n",
    "#Drop NA values\n",
    "# Red_USA_df = Red_USA_df.dropna()\n",
    "#convert vintage to date type\n",
    "Red_USA_df['vintage']= pd.to_datetime(Red_USA_df['vintage'])\n",
    "Red_USA_df.head()"
   ]
  },
  {
   "cell_type": "markdown",
   "metadata": {},
   "source": [
    "# White Wine in USA"
   ]
  },
  {
   "cell_type": "code",
   "execution_count": 4,
   "metadata": {},
   "outputs": [
    {
     "data": {
      "text/html": [
       "<div>\n",
       "<style scoped>\n",
       "    .dataframe tbody tr th:only-of-type {\n",
       "        vertical-align: middle;\n",
       "    }\n",
       "\n",
       "    .dataframe tbody tr th {\n",
       "        vertical-align: top;\n",
       "    }\n",
       "\n",
       "    .dataframe thead th {\n",
       "        text-align: right;\n",
       "    }\n",
       "</style>\n",
       "<table border=\"1\" class=\"dataframe\">\n",
       "  <thead>\n",
       "    <tr style=\"text-align: right;\">\n",
       "      <th></th>\n",
       "      <th>wine</th>\n",
       "      <th>wine_id</th>\n",
       "      <th>appellation</th>\n",
       "      <th>color</th>\n",
       "      <th>wine_type</th>\n",
       "      <th>regions</th>\n",
       "      <th>country</th>\n",
       "      <th>classification</th>\n",
       "      <th>vintage</th>\n",
       "      <th>is_primeurs</th>\n",
       "      <th>score</th>\n",
       "      <th>confidence_index</th>\n",
       "      <th>journalist_count</th>\n",
       "    </tr>\n",
       "  </thead>\n",
       "  <tbody>\n",
       "    <tr>\n",
       "      <th>0</th>\n",
       "      <td>Ridge Vineyards, Monte Bello Chardonnay, White...</td>\n",
       "      <td>120785</td>\n",
       "      <td>Santa Cruz Mountains</td>\n",
       "      <td>White</td>\n",
       "      <td>dry</td>\n",
       "      <td>[California]</td>\n",
       "      <td>Usa</td>\n",
       "      <td>None</td>\n",
       "      <td>2016-01-01</td>\n",
       "      <td>False</td>\n",
       "      <td>94.39</td>\n",
       "      <td>B</td>\n",
       "      <td>3</td>\n",
       "    </tr>\n",
       "    <tr>\n",
       "      <th>1</th>\n",
       "      <td>Stags' Leap Winery, Chardonnay, White, Napa Va...</td>\n",
       "      <td>129823</td>\n",
       "      <td>Napa Valley</td>\n",
       "      <td>White</td>\n",
       "      <td>dry</td>\n",
       "      <td>[California]</td>\n",
       "      <td>Usa</td>\n",
       "      <td>None</td>\n",
       "      <td>2016-01-01</td>\n",
       "      <td>False</td>\n",
       "      <td>89.83</td>\n",
       "      <td>A+</td>\n",
       "      <td>3</td>\n",
       "    </tr>\n",
       "    <tr>\n",
       "      <th>2</th>\n",
       "      <td>Joseph Phelps Vineyards, Freestone Chardonnay,...</td>\n",
       "      <td>89569</td>\n",
       "      <td>Sonoma Coast</td>\n",
       "      <td>White</td>\n",
       "      <td>dry</td>\n",
       "      <td>[California]</td>\n",
       "      <td>Usa</td>\n",
       "      <td>None</td>\n",
       "      <td>2016-01-01</td>\n",
       "      <td>False</td>\n",
       "      <td>90.73</td>\n",
       "      <td>C+</td>\n",
       "      <td>4</td>\n",
       "    </tr>\n",
       "    <tr>\n",
       "      <th>3</th>\n",
       "      <td>Crossbarn By Paul Hobbs, Chardonnay, White, So...</td>\n",
       "      <td>47377</td>\n",
       "      <td>Sonoma Coast</td>\n",
       "      <td>White</td>\n",
       "      <td>dry</td>\n",
       "      <td>[California]</td>\n",
       "      <td>Usa</td>\n",
       "      <td>None</td>\n",
       "      <td>2016-01-01</td>\n",
       "      <td>False</td>\n",
       "      <td>90.39</td>\n",
       "      <td>B+</td>\n",
       "      <td>3</td>\n",
       "    </tr>\n",
       "    <tr>\n",
       "      <th>4</th>\n",
       "      <td>Mount Eden Vineyards, Chardonnay, White, Santa...</td>\n",
       "      <td>107658</td>\n",
       "      <td>Santa Cruz Mountains</td>\n",
       "      <td>White</td>\n",
       "      <td>dry</td>\n",
       "      <td>[California]</td>\n",
       "      <td>Usa</td>\n",
       "      <td>None</td>\n",
       "      <td>2015-01-01</td>\n",
       "      <td>False</td>\n",
       "      <td>92.22</td>\n",
       "      <td>B</td>\n",
       "      <td>4</td>\n",
       "    </tr>\n",
       "  </tbody>\n",
       "</table>\n",
       "</div>"
      ],
      "text/plain": [
       "                                                wine  wine_id  \\\n",
       "0  Ridge Vineyards, Monte Bello Chardonnay, White...   120785   \n",
       "1  Stags' Leap Winery, Chardonnay, White, Napa Va...   129823   \n",
       "2  Joseph Phelps Vineyards, Freestone Chardonnay,...    89569   \n",
       "3  Crossbarn By Paul Hobbs, Chardonnay, White, So...    47377   \n",
       "4  Mount Eden Vineyards, Chardonnay, White, Santa...   107658   \n",
       "\n",
       "            appellation  color wine_type       regions country classification  \\\n",
       "0  Santa Cruz Mountains  White       dry  [California]     Usa           None   \n",
       "1           Napa Valley  White       dry  [California]     Usa           None   \n",
       "2          Sonoma Coast  White       dry  [California]     Usa           None   \n",
       "3          Sonoma Coast  White       dry  [California]     Usa           None   \n",
       "4  Santa Cruz Mountains  White       dry  [California]     Usa           None   \n",
       "\n",
       "     vintage  is_primeurs  score confidence_index  journalist_count  \n",
       "0 2016-01-01        False  94.39                B                 3  \n",
       "1 2016-01-01        False  89.83               A+                 3  \n",
       "2 2016-01-01        False  90.73               C+                 4  \n",
       "3 2016-01-01        False  90.39               B+                 3  \n",
       "4 2015-01-01        False  92.22                B                 4  "
      ]
     },
     "execution_count": 4,
     "metadata": {},
     "output_type": "execute_result"
    }
   ],
   "source": [
    "req_white_USA = urllib.request.Request('https://api.globalwinescore.com/globalwinescores/latest/?color=white&limit=5000&country=Usa', data=None, headers=headers, origin_req_host=None, unverifiable=False, method=None)\n",
    "res_white_USA = urllib.request.urlopen(req_white_USA).read().decode()\n",
    "obj_white_USA = json.loads(res_white_USA)\n",
    "#read json into DF\n",
    "white_USA_df = pd.DataFrame.from_dict(obj_white_USA['results'], orient='columns')\n",
    "# To delete the column without having to reassign df you can do:\n",
    "white_USA_df.drop([ 'wine_slug', 'appellation_slug',  'date',  'lwin', 'lwin_11'],axis=1, inplace=True)\n",
    "#'wine_id','wine_type','classification',\n",
    "#Drop NA values\n",
    "# white_USA_df = white_USA_df.dropna()\n",
    "#convert vintage to date type\n",
    "white_USA_df['vintage']= pd.to_datetime(white_USA_df['vintage'])\n",
    "white_USA_df.head()"
   ]
  },
  {
   "cell_type": "markdown",
   "metadata": {},
   "source": [
    "# Red Wine in France"
   ]
  },
  {
   "cell_type": "code",
   "execution_count": 5,
   "metadata": {},
   "outputs": [],
   "source": [
    "# req = urllib.request.Request('https://api.globalwinescore.com/globalwinescores/latest/?color=red&limit=5000&country=France', data=None, headers=headers, origin_req_host=None, unverifiable=False, method=None)\n",
    "# res = urllib.request.urlopen(req).read().decode()\n",
    "# obj = json.loads(res)\n",
    "# #read json file into DF\n",
    "# df = pd.DataFrame.from_dict(obj['results'], orient='columns')\n",
    "# # To delete the column without having to reassign df you can do:\n",
    "# df.drop([ 'wine_slug', 'appellation_slug', 'date',  'lwin', 'lwin_11'],axis=1, inplace=True)\n",
    "# # 'wine_type','wine_id','classification',\n",
    "# for i in df:\n",
    "#     print(f\"{i} has {df[i].isnull().sum()} null values\")\n",
    "# #Drop NA values\n",
    "# df = df.dropna()\n",
    "# for i in df:\n",
    "#     print(f\"{i} has {df[i].isnull().sum()} null values\")\n",
    "# # convert vintage to date time\n",
    "# df['vintage']= pd.to_datetime(df['vintage'])\n",
    "# df.dtypes"
   ]
  },
  {
   "cell_type": "markdown",
   "metadata": {},
   "source": [
    "# White Wine in France"
   ]
  },
  {
   "cell_type": "code",
   "execution_count": 6,
   "metadata": {},
   "outputs": [],
   "source": [
    "# req_white = urllib.request.Request('https://api.globalwinescore.com/globalwinescores/latest/?color=white&limit=5000&country=France', data=None, headers=headers, origin_req_host=None, unverifiable=False, method=None)\n",
    "# res_white = urllib.request.urlopen(req_white).read().decode()\n",
    "# obj_white = json.loads(res_white)\n",
    "# #read into DF\n",
    "# White_France_df = pd.DataFrame.from_dict(obj_white['results'], orient='columns')\n",
    "# # To delete the column without having to reassign df you can do:\n",
    "# White_France_df.drop([ 'wine_slug', 'appellation_slug', 'date', 'lwin', 'lwin_11'],axis=1, inplace=True)\n",
    "# # 'wine_type','wine_id', 'classification',\n",
    "# #drop null values\n",
    "# White_France_df = White_France_df.dropna()\n",
    "# #  convert to date time \n",
    "# White_France_df['vintage']= pd.to_datetime(White_France_df['vintage'])\n"
   ]
  },
  {
   "cell_type": "markdown",
   "metadata": {},
   "source": [
    "# Weather"
   ]
  },
  {
   "cell_type": "code",
   "execution_count": 7,
   "metadata": {},
   "outputs": [
    {
     "name": "stdout",
     "output_type": "stream",
     "text": [
      "http://api.openweathermap.org/data/2.5/weather?units=Imperial&APPID=cb263315761782d33f16c9fb510ae6c3\n",
      "http://api.openweathermap.org/data/2.5/weather?units=Imperial&APPID=cb263315761782d33f16c9fb510ae6c3&q=Des Moines\n"
     ]
    }
   ],
   "source": [
    "# Starting URL for Weather Map API Call.\n",
    "url = \"http://api.openweathermap.org/data/2.5/weather?units=Imperial&APPID=\" + weather_api_key\n",
    "print(url)\n",
    "# Create an endpoint URL for a city.\n",
    "city_url = url + \"&q=\" + \"Des Moines\"\n",
    "print(city_url)"
   ]
  },
  {
   "cell_type": "code",
   "execution_count": 8,
   "metadata": {},
   "outputs": [
    {
     "data": {
      "text/plain": [
       "{'coord': {'lon': -93.61, 'lat': 41.6},\n",
       " 'weather': [{'id': 801,\n",
       "   'main': 'Clouds',\n",
       "   'description': 'few clouds',\n",
       "   'icon': '02n'}],\n",
       " 'base': 'stations',\n",
       " 'main': {'temp': 49.06,\n",
       "  'feels_like': 43.39,\n",
       "  'temp_min': 42.8,\n",
       "  'temp_max': 53.6,\n",
       "  'pressure': 1017,\n",
       "  'humidity': 50},\n",
       " 'visibility': 10000,\n",
       " 'wind': {'speed': 3.51, 'deg': 167},\n",
       " 'clouds': {'all': 20},\n",
       " 'dt': 1602647320,\n",
       " 'sys': {'type': 1,\n",
       "  'id': 3863,\n",
       "  'country': 'US',\n",
       "  'sunrise': 1602591879,\n",
       "  'sunset': 1602632164},\n",
       " 'timezone': -18000,\n",
       " 'id': 4853828,\n",
       " 'name': 'Des Moines',\n",
       " 'cod': 200}"
      ]
     },
     "execution_count": 8,
     "metadata": {},
     "output_type": "execute_result"
    }
   ],
   "source": [
    "# Make a 'Get' request for the city weather.\n",
    "city_weather = requests.get(city_url).json()\n",
    "city_weather"
   ]
  },
  {
   "cell_type": "code",
   "execution_count": 9,
   "metadata": {},
   "outputs": [
    {
     "data": {
      "text/html": [
       "<div>\n",
       "<style scoped>\n",
       "    .dataframe tbody tr th:only-of-type {\n",
       "        vertical-align: middle;\n",
       "    }\n",
       "\n",
       "    .dataframe tbody tr th {\n",
       "        vertical-align: top;\n",
       "    }\n",
       "\n",
       "    .dataframe thead th {\n",
       "        text-align: right;\n",
       "    }\n",
       "</style>\n",
       "<table border=\"1\" class=\"dataframe\">\n",
       "  <thead>\n",
       "    <tr style=\"text-align: right;\">\n",
       "      <th></th>\n",
       "      <th>Lat</th>\n",
       "      <th>Lng</th>\n",
       "      <th>Max Temp</th>\n",
       "      <th>Humidity</th>\n",
       "      <th>Cloudiness</th>\n",
       "      <th>Wind Speed</th>\n",
       "      <th>Country</th>\n",
       "      <th>Date</th>\n",
       "    </tr>\n",
       "  </thead>\n",
       "  <tbody>\n",
       "    <tr>\n",
       "      <th>0</th>\n",
       "      <td>41.6</td>\n",
       "      <td>-93.61</td>\n",
       "      <td>53.6</td>\n",
       "      <td>50</td>\n",
       "      <td>20</td>\n",
       "      <td>3.51</td>\n",
       "      <td>US</td>\n",
       "      <td>2020-10-14 03:48:40</td>\n",
       "    </tr>\n",
       "  </tbody>\n",
       "</table>\n",
       "</div>"
      ],
      "text/plain": [
       "    Lat    Lng  Max Temp  Humidity  Cloudiness  Wind Speed Country  \\\n",
       "0  41.6 -93.61      53.6        50          20        3.51      US   \n",
       "\n",
       "                  Date  \n",
       "0  2020-10-14 03:48:40  "
      ]
     },
     "execution_count": 9,
     "metadata": {},
     "output_type": "execute_result"
    }
   ],
   "source": [
    "city_lat = city_weather[\"coord\"][\"lat\"]\n",
    "city_lng = city_weather[\"coord\"][\"lon\"]\n",
    "city_max_temp = city_weather[\"main\"][\"temp_max\"]\n",
    "city_humidity = city_weather[\"main\"][\"humidity\"]\n",
    "city_clouds = city_weather[\"clouds\"][\"all\"]\n",
    "city_wind = city_weather[\"wind\"][\"speed\"]\n",
    "city_country = city_weather[\"sys\"][\"country\"]\n",
    "# convert date to year-month-day, hour-minute-second\n",
    "city_date = datetime.utcfromtimestamp(city_weather[\"dt\"]).strftime('%Y-%m-%d %H:%M:%S')\n",
    "#identify which columns we want to view by creating an empty list and appending that list\n",
    "city_data=[]\n",
    "city_data.append({\n",
    "    \"Lat\": city_lat,\n",
    "    \"Lng\": city_lng,\n",
    "    \"Max Temp\": city_max_temp,\n",
    "    \"Humidity\": city_humidity,\n",
    "    \"Cloudiness\": city_clouds,\n",
    "    \"Wind Speed\": city_wind,\n",
    "    \"Country\": city_country,\n",
    "    \"Date\": city_date})\n",
    "city_data_df = pd.DataFrame(city_data)\n",
    "city_data_df"
   ]
  },
  {
   "cell_type": "code",
   "execution_count": 10,
   "metadata": {},
   "outputs": [
    {
     "data": {
      "text/plain": [
       "[{'Lat': 41.6,\n",
       "  'Lng': -93.61,\n",
       "  'Max Temp': 53.6,\n",
       "  'Humidity': 50,\n",
       "  'Cloudiness': 20,\n",
       "  'Wind Speed': 3.51,\n",
       "  'Country': 'US',\n",
       "  'Date': '2020-10-14 03:48:40'}]"
      ]
     },
     "execution_count": 10,
     "metadata": {},
     "output_type": "execute_result"
    }
   ],
   "source": [
    "city_data"
   ]
  },
  {
   "cell_type": "code",
   "execution_count": 11,
   "metadata": {},
   "outputs": [
    {
     "data": {
      "text/plain": [
       "'http://history.openweathermap.org/data/2.5/history/city?q=London,UK&APPID=cb263315761782d33f16c9fb510ae6c3'"
      ]
     },
     "execution_count": 11,
     "metadata": {},
     "output_type": "execute_result"
    }
   ],
   "source": [
    "historical_weather_url=\"http://history.openweathermap.org/data/2.5/history/city?q=London,UK&APPID=\" + weather_api_key\n",
    "historical_weather_url\n"
   ]
  },
  {
   "cell_type": "code",
   "execution_count": 12,
   "metadata": {},
   "outputs": [
    {
     "data": {
      "text/plain": [
       "{'cod': 401,\n",
       " 'message': 'Invalid API key. Please see http://openweathermap.org/faq#error401 for more info.'}"
      ]
     },
     "execution_count": 12,
     "metadata": {},
     "output_type": "execute_result"
    }
   ],
   "source": [
    "# Make a 'Get' request for the city weather.\n",
    "city_weather_london = requests.get(historical_weather_url).json()\n",
    "city_weather_london"
   ]
  },
  {
   "cell_type": "code",
   "execution_count": 13,
   "metadata": {},
   "outputs": [
    {
     "name": "stdout",
     "output_type": "stream",
     "text": [
      "http://api.openweathermap.org/data/2.5/weather?units=Imperial&APPID=cb263315761782d33f16c9fb510ae6c3\n",
      "http://api.openweathermap.org/data/2.5/weather?units=Imperial&APPID=cb263315761782d33f16c9fb510ae6c3&q=Des Moines\n"
     ]
    }
   ],
   "source": [
    "# Starting URL for Weather Map API Call.\n",
    "url = \"http://api.openweathermap.org/data/2.5/weather?units=Imperial&APPID=\" + weather_api_key\n",
    "print(url)\n",
    "# Create an endpoint URL for a city.\n",
    "city_url = url + \"&q=\" + \"Des Moines\"\n",
    "print(city_url)"
   ]
  }
 ],
 "metadata": {
  "kernelspec": {
   "display_name": "PythonData",
   "language": "python",
   "name": "pythondata"
  },
  "language_info": {
   "codemirror_mode": {
    "name": "ipython",
    "version": 3
   },
   "file_extension": ".py",
   "mimetype": "text/x-python",
   "name": "python",
   "nbconvert_exporter": "python",
   "pygments_lexer": "ipython3",
   "version": "3.7.7"
  }
 },
 "nbformat": 4,
 "nbformat_minor": 4
}
