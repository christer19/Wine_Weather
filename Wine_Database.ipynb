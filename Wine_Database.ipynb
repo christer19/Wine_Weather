{
  "nbformat": 4,
  "nbformat_minor": 0,
  "metadata": {
    "colab": {
      "name": "Wine_Database.ipynb",
      "provenance": []
    },
    "kernelspec": {
      "name": "python3",
      "display_name": "Python 3"
    }
  },
  "cells": [
    {
      "cell_type": "code",
      "metadata": {
        "id": "xA7-AJeGKVlE",
        "outputId": "17b62747-23b2-4dc5-fa8b-ab703a304a29",
        "colab": {
          "base_uri": "https://localhost:8080/",
          "height": 221
        }
      },
      "source": [
        "import os\n",
        "# Find the latest version of spark 3.0  from http://www-us.apache.org/dist/spark/ and enter as the spark version\n",
        "# For example:\n",
        "# spark_version = 'spark-3.0.0'\n",
        "spark_version = 'spark-3.0.1'\n",
        "os.environ['SPARK_VERSION']=spark_version\n",
        "\n",
        "# Install Spark and Java\n",
        "!apt-get update\n",
        "!apt-get install openjdk-11-jdk-headless -qq > /dev/null\n",
        "!wget -q http://www-us.apache.org/dist/spark/$SPARK_VERSION/$SPARK_VERSION-bin-hadoop2.7.tgz\n",
        "!tar xf $SPARK_VERSION-bin-hadoop2.7.tgz\n",
        "!pip install -q findspark\n",
        "\n",
        "# Set Environment Variables\n",
        "import os\n",
        "os.environ[\"JAVA_HOME\"] = \"/usr/lib/jvm/java-11-openjdk-amd64\"\n",
        "os.environ[\"SPARK_HOME\"] = f\"/content/{spark_version}-bin-hadoop2.7\"\n",
        "\n",
        "# Start a SparkSession\n",
        "import findspark\n",
        "findspark.init()"
      ],
      "execution_count": 1,
      "outputs": [
        {
          "output_type": "stream",
          "text": [
            "\r0% [Working]\r            \rIgn:1 https://developer.download.nvidia.com/compute/cuda/repos/ubuntu1804/x86_64  InRelease\n",
            "\r0% [Waiting for headers] [Waiting for headers] [Connected to cloud.r-project.or\r                                                                               \rHit:2 https://cloud.r-project.org/bin/linux/ubuntu bionic-cran40/ InRelease\n",
            "\r0% [Waiting for headers] [Waiting for headers] [Waiting for headers] [Waiting f\r0% [2 InRelease gpgv 3,626 B] [Waiting for headers] [Waiting for headers] [Wait\r                                                                               \rIgn:3 https://developer.download.nvidia.com/compute/machine-learning/repos/ubuntu1804/x86_64  InRelease\n",
            "\r0% [2 InRelease gpgv 3,626 B] [Waiting for headers] [Waiting for headers] [Wait\r                                                                               \rHit:4 http://security.ubuntu.com/ubuntu bionic-security InRelease\n",
            "\r0% [2 InRelease gpgv 3,626 B] [Waiting for headers] [Waiting for headers] [Wait\r                                                                               \rHit:5 http://ppa.launchpad.net/c2d4u.team/c2d4u4.0+/ubuntu bionic InRelease\n",
            "\r0% [2 InRelease gpgv 3,626 B] [Waiting for headers] [Connecting to ppa.launchpa\r                                                                               \rHit:6 http://archive.ubuntu.com/ubuntu bionic InRelease\n",
            "Hit:7 https://developer.download.nvidia.com/compute/cuda/repos/ubuntu1804/x86_64  Release\n",
            "Hit:8 https://developer.download.nvidia.com/compute/machine-learning/repos/ubuntu1804/x86_64  Release\n",
            "Hit:9 http://archive.ubuntu.com/ubuntu bionic-updates InRelease\n",
            "Hit:10 http://ppa.launchpad.net/graphics-drivers/ppa/ubuntu bionic InRelease\n",
            "Hit:11 http://archive.ubuntu.com/ubuntu bionic-backports InRelease\n",
            "Reading package lists... Done\n"
          ],
          "name": "stdout"
        }
      ]
    },
    {
      "cell_type": "code",
      "metadata": {
        "id": "kg5KWx8HMehi",
        "outputId": "7baf331a-2032-4ca6-9854-667b66382630",
        "colab": {
          "base_uri": "https://localhost:8080/",
          "height": 204
        }
      },
      "source": [
        "# enter the following code to download a Postgres driver that will allow Spark to interact with Postgres:\n",
        "!wget https://jdbc.postgresql.org/download/postgresql-42.2.16.jar"
      ],
      "execution_count": 2,
      "outputs": [
        {
          "output_type": "stream",
          "text": [
            "--2020-10-17 02:01:49--  https://jdbc.postgresql.org/download/postgresql-42.2.16.jar\n",
            "Resolving jdbc.postgresql.org (jdbc.postgresql.org)... 72.32.157.228, 2001:4800:3e1:1::228\n",
            "Connecting to jdbc.postgresql.org (jdbc.postgresql.org)|72.32.157.228|:443... connected.\n",
            "HTTP request sent, awaiting response... 200 OK\n",
            "Length: 1002883 (979K) [application/java-archive]\n",
            "Saving to: ‘postgresql-42.2.16.jar.3’\n",
            "\n",
            "postgresql-42.2.16. 100%[===================>] 979.38K  5.50MB/s    in 0.2s    \n",
            "\n",
            "2020-10-17 02:01:50 (5.50 MB/s) - ‘postgresql-42.2.16.jar.3’ saved [1002883/1002883]\n",
            "\n"
          ],
          "name": "stdout"
        }
      ]
    },
    {
      "cell_type": "code",
      "metadata": {
        "id": "MbNh1KwnMj0k"
      },
      "source": [
        "# start a Spark session with an additional option that adds the driver to Spark:\n",
        "from pyspark.sql import SparkSession\n",
        "spark = SparkSession.builder.appName(\"Wine\").config(\"spark.driver.extraClassPath\",\"/content/postgresql-42.2.16.jar\").getOrCreate()\n"
      ],
      "execution_count": 3,
      "outputs": []
    },
    {
      "cell_type": "code",
      "metadata": {
        "id": "mHUDms1mMpAO",
        "outputId": "63f8be06-db9a-4d47-80d9-14b1832f17f1",
        "colab": {
          "base_uri": "https://localhost:8080/",
          "height": 479
        }
      },
      "source": [
        "# Read in data from S3 Buckets\n",
        "from pyspark import SparkFiles\n",
        "url =\"https://wine5-bucket.s3.us-east-2.amazonaws.com/Red_Wine_USA.csv\"\n",
        "spark.sparkContext.addFile(url)\n",
        "Red_Wine_df = spark.read.csv(SparkFiles.get(\"Red_Wine_USA.csv\"), sep=\",\", header=True, inferSchema=True)\n",
        "\n",
        "# Show DataFrame\n",
        "Red_Wine_df.show()"
      ],
      "execution_count": 4,
      "outputs": [
        {
          "output_type": "stream",
          "text": [
            "+---+--------------------+-------+--------------------+-----+----------+-------+-------+-----------+-----+----------------+----------------+\n",
            "|_c0|                wine|wine_id|         appellation|color|   regions|country|vintage|is_primeurs|score|confidence_index|journalist_count|\n",
            "+---+--------------------+-------+--------------------+-----+----------+-------+-------+-----------+-----+----------------+----------------+\n",
            "|  0|Ridge Vineyards, ...| 120786|Santa Cruz Mountains|  Red|California|    Usa|   2013|      false|95.83|              C+|               8|\n",
            "|  1|Quintessa, Ruther...| 118360|          Rutherford|  Red|California|    Usa|   2015|      false|95.77|               C|               3|\n",
            "|  2|Harlan Estate, Na...|  81980|         Napa Valley|  Red|California|    Usa|   2001|      false|98.89|              A+|               6|\n",
            "|  3|Dalla Valle Viney...|  48290|         Napa Valley|  Red|California|    Usa|   2001|      false|96.49|              B+|               5|\n",
            "|  4|Philip Togni Vine...| 115154|         Napa Valley|  Red|California|    Usa|   2001|      false| 96.2|               B|               3|\n",
            "|  5|Colgin Cellars, C...|  44618|         Napa Valley|  Red|California|    Usa|   2001|      false| 95.6|               B|               5|\n",
            "|  6|Sloan, Proprietar...| 128313|          Rutherford|  Red|California|    Usa|   2001|      false|95.19|              C+|               3|\n",
            "|  7|Shafer Vineyards,...| 126746| Stags Leap District|  Red|California|    Usa|   2001|      false|93.69|               C|               6|\n",
            "|  8|Dalla Valle Viney...|  48287|         Napa Valley|  Red|California|    Usa|   2001|      false|93.66|              B+|               5|\n",
            "|  9|Dominus Estate, C...|  67008|         Napa Valley|  Red|California|    Usa|   2001|      false| 93.6|               B|              10|\n",
            "| 10|Beringer Vineyard...|  11029|         Napa Valley|  Red|California|    Usa|   2001|      false|93.25|              C+|               3|\n",
            "| 11|Verite, La Joie, ...| 139098|       Sonoma County|  Red|California|    Usa|   2001|      false|92.37|               C|               3|\n",
            "| 12|Corison, Cabernet...|  46229|         Napa Valley|  Red|California|    Usa|   2001|      false| 92.2|              C+|               6|\n",
            "| 13|Opus One, Napa Va...| 111085|         Napa Valley|  Red|California|    Usa|   2001|      false|91.88|               B|               8|\n",
            "| 14|Viader, Red Blend...| 139371|         Napa Valley|  Red|California|    Usa|   2001|      false|90.58|               B|               3|\n",
            "| 15|Ridge Vineyards, ...| 120786|Santa Cruz Mountains|  Red|California|    Usa|   1991|      false| 95.9|               B|               8|\n",
            "| 16|Schrader Cellars,...| 125492|         Napa Valley|  Red|California|    Usa|   2009|      false|95.09|              C+|               5|\n",
            "| 17|Harlan Estate, Na...|  81980|         Napa Valley|  Red|California|    Usa|   2010|      false|98.41|               B|               8|\n",
            "| 18|Dalla Valle Viney...|  48290|         Napa Valley|  Red|California|    Usa|   2010|      false|97.63|               B|               5|\n",
            "| 19|Bryant Family Vin...|  22244|         Napa Valley|  Red|California|    Usa|   2010|      false| 97.0|               A|               5|\n",
            "+---+--------------------+-------+--------------------+-----+----------+-------+-------+-----------+-----+----------------+----------------+\n",
            "only showing top 20 rows\n",
            "\n"
          ],
          "name": "stdout"
        }
      ]
    },
    {
      "cell_type": "code",
      "metadata": {
        "id": "UNrXoyWDS42h",
        "outputId": "d9fc26c0-c8c5-4869-9d07-ba78aae659b2",
        "colab": {
          "base_uri": "https://localhost:8080/",
          "height": 34
        }
      },
      "source": [
        "Red_Wine_df.count()"
      ],
      "execution_count": 6,
      "outputs": [
        {
          "output_type": "execute_result",
          "data": {
            "text/plain": [
              "4364"
            ]
          },
          "metadata": {
            "tags": []
          },
          "execution_count": 6
        }
      ]
    },
    {
      "cell_type": "code",
      "metadata": {
        "id": "3xQQOLA4PJTJ",
        "outputId": "fffcac13-5c56-4243-ebbf-88b73f67aba3",
        "colab": {
          "base_uri": "https://localhost:8080/",
          "height": 479
        }
      },
      "source": [
        "#Drop null values\n",
        "dropna_df = Red_Wine_df.dropna()\n",
        "dropna_df.show()"
      ],
      "execution_count": 5,
      "outputs": [
        {
          "output_type": "stream",
          "text": [
            "+---+--------------------+-------+--------------------+-----+----------+-------+-------+-----------+-----+----------------+----------------+\n",
            "|_c0|                wine|wine_id|         appellation|color|   regions|country|vintage|is_primeurs|score|confidence_index|journalist_count|\n",
            "+---+--------------------+-------+--------------------+-----+----------+-------+-------+-----------+-----+----------------+----------------+\n",
            "|  0|Ridge Vineyards, ...| 120786|Santa Cruz Mountains|  Red|California|    Usa|   2013|      false|95.83|              C+|               8|\n",
            "|  1|Quintessa, Ruther...| 118360|          Rutherford|  Red|California|    Usa|   2015|      false|95.77|               C|               3|\n",
            "|  2|Harlan Estate, Na...|  81980|         Napa Valley|  Red|California|    Usa|   2001|      false|98.89|              A+|               6|\n",
            "|  3|Dalla Valle Viney...|  48290|         Napa Valley|  Red|California|    Usa|   2001|      false|96.49|              B+|               5|\n",
            "|  4|Philip Togni Vine...| 115154|         Napa Valley|  Red|California|    Usa|   2001|      false| 96.2|               B|               3|\n",
            "|  5|Colgin Cellars, C...|  44618|         Napa Valley|  Red|California|    Usa|   2001|      false| 95.6|               B|               5|\n",
            "|  6|Sloan, Proprietar...| 128313|          Rutherford|  Red|California|    Usa|   2001|      false|95.19|              C+|               3|\n",
            "|  7|Shafer Vineyards,...| 126746| Stags Leap District|  Red|California|    Usa|   2001|      false|93.69|               C|               6|\n",
            "|  8|Dalla Valle Viney...|  48287|         Napa Valley|  Red|California|    Usa|   2001|      false|93.66|              B+|               5|\n",
            "|  9|Dominus Estate, C...|  67008|         Napa Valley|  Red|California|    Usa|   2001|      false| 93.6|               B|              10|\n",
            "| 10|Beringer Vineyard...|  11029|         Napa Valley|  Red|California|    Usa|   2001|      false|93.25|              C+|               3|\n",
            "| 11|Verite, La Joie, ...| 139098|       Sonoma County|  Red|California|    Usa|   2001|      false|92.37|               C|               3|\n",
            "| 12|Corison, Cabernet...|  46229|         Napa Valley|  Red|California|    Usa|   2001|      false| 92.2|              C+|               6|\n",
            "| 13|Opus One, Napa Va...| 111085|         Napa Valley|  Red|California|    Usa|   2001|      false|91.88|               B|               8|\n",
            "| 14|Viader, Red Blend...| 139371|         Napa Valley|  Red|California|    Usa|   2001|      false|90.58|               B|               3|\n",
            "| 15|Ridge Vineyards, ...| 120786|Santa Cruz Mountains|  Red|California|    Usa|   1991|      false| 95.9|               B|               8|\n",
            "| 16|Schrader Cellars,...| 125492|         Napa Valley|  Red|California|    Usa|   2009|      false|95.09|              C+|               5|\n",
            "| 17|Harlan Estate, Na...|  81980|         Napa Valley|  Red|California|    Usa|   2010|      false|98.41|               B|               8|\n",
            "| 18|Dalla Valle Viney...|  48290|         Napa Valley|  Red|California|    Usa|   2010|      false|97.63|               B|               5|\n",
            "| 19|Bryant Family Vin...|  22244|         Napa Valley|  Red|California|    Usa|   2010|      false| 97.0|               A|               5|\n",
            "+---+--------------------+-------+--------------------+-----+----------+-------+-------+-----------+-----+----------------+----------------+\n",
            "only showing top 20 rows\n",
            "\n"
          ],
          "name": "stdout"
        }
      ]
    },
    {
      "cell_type": "code",
      "metadata": {
        "id": "OielVmwIS9g0",
        "outputId": "c52a4966-54e5-4b7a-eb63-cbf7314b5214",
        "colab": {
          "base_uri": "https://localhost:8080/",
          "height": 34
        }
      },
      "source": [
        "dropna_df.count()"
      ],
      "execution_count": 7,
      "outputs": [
        {
          "output_type": "execute_result",
          "data": {
            "text/plain": [
              "4364"
            ]
          },
          "metadata": {
            "tags": []
          },
          "execution_count": 7
        }
      ]
    },
    {
      "cell_type": "code",
      "metadata": {
        "id": "Cmm4ZSzJTII4",
        "outputId": "677a53b9-1297-4a8a-d009-523d839a7ae8",
        "colab": {
          "base_uri": "https://localhost:8080/",
          "height": 479
        }
      },
      "source": [
        "# Load in a sql function to use columns\n",
        "from pyspark.sql.functions import col\n",
        "\n",
        "# Filter for only columns with journalist_count > 5\n",
        "cleaned_df = dropna_df.filter(col(\"journalist_count\") > 5)\n",
        "cleaned_df.show()"
      ],
      "execution_count": 8,
      "outputs": [
        {
          "output_type": "stream",
          "text": [
            "+---+--------------------+-------+--------------------+-----+----------+-------+-------+-----------+-----+----------------+----------------+\n",
            "|_c0|                wine|wine_id|         appellation|color|   regions|country|vintage|is_primeurs|score|confidence_index|journalist_count|\n",
            "+---+--------------------+-------+--------------------+-----+----------+-------+-------+-----------+-----+----------------+----------------+\n",
            "|  0|Ridge Vineyards, ...| 120786|Santa Cruz Mountains|  Red|California|    Usa|   2013|      false|95.83|              C+|               8|\n",
            "|  2|Harlan Estate, Na...|  81980|         Napa Valley|  Red|California|    Usa|   2001|      false|98.89|              A+|               6|\n",
            "|  7|Shafer Vineyards,...| 126746| Stags Leap District|  Red|California|    Usa|   2001|      false|93.69|               C|               6|\n",
            "|  9|Dominus Estate, C...|  67008|         Napa Valley|  Red|California|    Usa|   2001|      false| 93.6|               B|              10|\n",
            "| 12|Corison, Cabernet...|  46229|         Napa Valley|  Red|California|    Usa|   2001|      false| 92.2|              C+|               6|\n",
            "| 13|Opus One, Napa Va...| 111085|         Napa Valley|  Red|California|    Usa|   2001|      false|91.88|               B|               8|\n",
            "| 15|Ridge Vineyards, ...| 120786|Santa Cruz Mountains|  Red|California|    Usa|   1991|      false| 95.9|               B|               8|\n",
            "| 17|Harlan Estate, Na...|  81980|         Napa Valley|  Red|California|    Usa|   2010|      false|98.41|               B|               8|\n",
            "| 20|Dominus Estate, C...|  67008|         Napa Valley|  Red|California|    Usa|   2010|      false| 96.3|              C+|               9|\n",
            "| 21|Spottswoode, Fami...| 129353|           St Helena|  Red|California|    Usa|   2010|      false| 96.2|               B|               8|\n",
            "| 22|Shafer Vineyards,...| 126746| Stags Leap District|  Red|California|    Usa|   2010|      false|96.16|              C+|               8|\n",
            "| 24|Opus One, Napa Va...| 111085|         Napa Valley|  Red|California|    Usa|   2010|      false|95.99|               B|               8|\n",
            "| 30|Joseph Phelps Vin...|  89577|         Napa Valley|  Red|California|    Usa|   2010|      false|95.31|              B+|               8|\n",
            "| 33|Dalla Valle Viney...|  48287|         Napa Valley|  Red|California|    Usa|   2010|      false|94.62|               B|               6|\n",
            "| 34|Ridge Vineyards, ...| 120786|Santa Cruz Mountains|  Red|California|    Usa|   2010|      false|94.41|               B|               9|\n",
            "| 35|Diamond Creek, Re...|  50664|         Napa Valley|  Red|California|    Usa|   2010|      false|94.19|               A|               7|\n",
            "| 41|Cliff Lede Vineya...|  43385| Stags Leap District|  Red|California|    Usa|   2010|      false|93.29|               B|               6|\n",
            "| 42|Beringer Vineyard...|  11029|         Napa Valley|  Red|California|    Usa|   2010|      false|92.78|               B|               9|\n",
            "| 43|Chateau Montelena...|  39438|         Napa Valley|  Red|California|    Usa|   2010|      false| 92.7|              B+|               8|\n",
            "| 44|Quintessa, Ruther...| 118360|          Rutherford|  Red|California|    Usa|   2010|      false|92.67|              B+|               6|\n",
            "+---+--------------------+-------+--------------------+-----+----------+-------+-------+-----------+-----+----------------+----------------+\n",
            "only showing top 20 rows\n",
            "\n"
          ],
          "name": "stdout"
        }
      ]
    },
    {
      "cell_type": "code",
      "metadata": {
        "id": "hly7hEC9UySk",
        "outputId": "8e28df8f-3945-49b0-c697-8737289b8d89",
        "colab": {
          "base_uri": "https://localhost:8080/",
          "height": 34
        }
      },
      "source": [
        "cleaned_df.count()"
      ],
      "execution_count": 9,
      "outputs": [
        {
          "output_type": "execute_result",
          "data": {
            "text/plain": [
              "446"
            ]
          },
          "metadata": {
            "tags": []
          },
          "execution_count": 9
        }
      ]
    }
  ]
}