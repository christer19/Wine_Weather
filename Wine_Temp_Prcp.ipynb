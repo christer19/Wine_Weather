{
 "cells": [
  {
   "cell_type": "code",
   "execution_count": 1,
   "metadata": {},
   "outputs": [],
   "source": [
    "# Import the requests library.\n",
    "import requests\n",
    "import numpy as np\n",
    "import pandas as pd\n",
    "# Import the requests library.\n",
    "import requests\n",
    "import datetime\n",
    "from datetime import datetime\n",
    "import matplotlib.pyplot as plt\n",
    "# Dependencies for the wine API\n",
    "import urllib\n",
    "import json\n",
    "# Import the API key.\n",
    "from config import weather_api_key\n",
    "\n",
    "Token = 'tylRGHbxqiZUDNymMowCBFCuEqeULiWk'\n",
    "API_Token='Token d8f94b93417333267ca0edcca7dc14a9e035e1bb'"
   ]
  },
  {
   "cell_type": "code",
   "execution_count": 2,
   "metadata": {},
   "outputs": [],
   "source": [
    "# Import the API key.\n",
    "headers = {\n",
    "    'accept': 'application/json',\n",
    "    'authorization': API_Token\n",
    "    }"
   ]
  },
  {
   "cell_type": "markdown",
   "metadata": {},
   "source": [
    "# Red Wine in USA"
   ]
  },
  {
   "cell_type": "code",
   "execution_count": 21,
   "metadata": {},
   "outputs": [],
   "source": [
    "req_red_USA = urllib.request.Request('https://api.globalwinescore.com/globalwinescores/latest/?color=red&limit=5000&country=Usa', data=None, headers=headers, origin_req_host=None, unverifiable=False, method=None)\n",
    "res_red_USA = urllib.request.urlopen(req_red_USA).read().decode()\n",
    "obj_red_USA = json.loads(res_red_USA)\n",
    "#read json into DF\n",
    "Red_USA_df = pd.DataFrame.from_dict(obj_red_USA['results'], orient='columns')\n",
    "# To delete the column without having to reassign df you can do:\n",
    "Red_USA_df.drop([ 'wine_slug', 'appellation_slug',  'date',  'lwin', 'lwin_11'],axis=1, inplace=True)\n",
    "#'wine_id','wine_type','classification',\n",
    "#Drop NA values\n",
    "# Red_USA_df = Red_USA_df.dropna()\n",
    "#convert vintage to date type\n",
    "Red_USA_df['vintage']= pd.to_datetime(Red_USA_df['vintage']).dt.year\n",
    "Red_USA_df['regions']=Red_USA_df['regions'].str.get(0)\n",
    "Red_USA_df.to_csv(\"Red_Wine_USA.csv\")"
   ]
  },
  {
   "cell_type": "markdown",
   "metadata": {},
   "source": [
    "# White Wine in USA"
   ]
  },
  {
   "cell_type": "code",
   "execution_count": 23,
   "metadata": {},
   "outputs": [],
   "source": [
    "req_white_USA = urllib.request.Request('https://api.globalwinescore.com/globalwinescores/latest/?color=white&limit=5000&country=Usa', data=None, headers=headers, origin_req_host=None, unverifiable=False, method=None)\n",
    "res_white_USA = urllib.request.urlopen(req_white_USA).read().decode()\n",
    "obj_white_USA = json.loads(res_white_USA)\n",
    "#read json into DF\n",
    "white_USA_df = pd.DataFrame.from_dict(obj_white_USA['results'], orient='columns')\n",
    "# To delete the column without having to reassign df you can do:\n",
    "white_USA_df.drop([ 'wine_slug', 'appellation_slug',  'date',  'lwin', 'lwin_11'],axis=1, inplace=True)\n",
    "#'wine_id','wine_type','classification',\n",
    "#Drop NA values\n",
    "# white_USA_df = white_USA_df.dropna()\n",
    "#convert vintage to date type\n",
    "white_USA_df['vintage']= pd.to_datetime(white_USA_df['vintage']).dt.year\n",
    "white_USA_df['regions']=white_USA_df['regions'].str.get(0)\n",
    "white_USA_df.to_csv(\"White_Wine_USA.csv\")"
   ]
  },
  {
   "cell_type": "markdown",
   "metadata": {},
   "source": [
    "# Weather"
   ]
  },
  {
   "cell_type": "markdown",
   "metadata": {},
   "source": [
    "# California Avg Temp and Precipitation"
   ]
  },
  {
   "cell_type": "code",
   "execution_count": 5,
   "metadata": {},
   "outputs": [
    {
     "name": "stdout",
     "output_type": "stream",
     "text": [
      "working on year 2013\n",
      "working on year 2014\n",
      "working on year 2015\n",
      "working on year 2016\n"
     ]
    }
   ],
   "source": [
    "#Create average temperature\n",
    "dates_temp = []\n",
    "temps = []\n",
    "\n",
    "#for each year from 2015-2019 ...\n",
    "for year in range(2013, 2017):\n",
    "    year = str(year)\n",
    "    print('working on year '+year)\n",
    "    \n",
    "    #make the api call\n",
    "    r = requests.get('https://www.ncdc.noaa.gov/cdo-web/api/v2/data?datasetid=GHCND&datatypeid=TAVG&limit=1000&stationid=GHCND:USW00023129&startdate='+year+'-01-01&enddate='+year+'-12-31', headers={'token':Token})\n",
    "    #load the api response as a json\n",
    "    d = json.loads(r.text)\n",
    "    #get all items in the response which are average temperature readings\n",
    "    avg_temps = [item for item in d['results'] if item['datatype']=='TAVG']\n",
    "    #get the date field from all average temperature readings\n",
    "    dates_temp += [item['date'] for item in avg_temps]\n",
    "    #get the actual average temperature from all average temperature readings\n",
    "    temps += [item['value'] for item in avg_temps]\n",
    "\n",
    "#initialize dataframe\n",
    "df_temp = pd.DataFrame()\n",
    "\n",
    "#populate date and average temperature fields (cast string date to datetime\n",
    "df_temp['date'] = [datetime.strptime(d, \"%Y-%m-%dT%H:%M:%S\") for d in dates_temp]\n",
    "#convert to degrees F\n",
    "df_temp['avgTemp'] = [float(v)/10.0*1.8 + 32 for v in temps]\n",
    "df_temp = df_temp.set_index('date').resample('M').mean()"
   ]
  },
  {
   "cell_type": "code",
   "execution_count": 6,
   "metadata": {},
   "outputs": [],
   "source": [
    "### initialize lists to store data\n",
    "dates_prcp = []\n",
    "prcp = []\n",
    "\n",
    "#for each year from 2015-2019 ...\n",
    "for year in range(1992, 2017):\n",
    "    year = str(year)\n",
    "#     print('working on year '+year)\n",
    "    \n",
    "    #make the api call\n",
    "    r = requests.get(f'https://www.ncdc.noaa.gov/cdo-web/api/v2/data?datasetid=GHCND&datatypeid=PRCP&limit=1000&stationid=GHCND:USC00046074&startdate='+year+'-01-01&enddate='+year+'-12-31', headers={'token':Token})\n",
    "    #load the api response as a json\n",
    "    d = json.loads(r.text)\n",
    "    #get all items in the response which are Precipitation temperature readings\n",
    "    avg_prcp = [item for item in d['results'] if item['datatype']=='PRCP']\n",
    "    #get the date field from all average Precipitation readings\n",
    "    dates_prcp += [item['date'] for item in avg_prcp]\n",
    "    #get the actual average Precipitation from all average Precipitation readings\n",
    "    prcp += [item['value'] for item in avg_prcp]\n",
    "\n",
    "#initialize dataframe\n",
    "df_prcp = pd.DataFrame()\n",
    "\n",
    "#populate date and average Precipitation fields (cast string date to datetime\n",
    "df_prcp['date'] = [datetime.strptime(d, \"%Y-%m-%dT%H:%M:%S\") for d in dates_prcp]\n",
    "#convert to mm to inches\n",
    "df_prcp['avgPrcp'] = [float(v)*0.0393701 for v in prcp]\n",
    "df_prcp = df_prcp.set_index('date').resample('M').mean()"
   ]
  },
  {
   "cell_type": "code",
   "execution_count": 24,
   "metadata": {},
   "outputs": [],
   "source": [
    "df_temp['avgPrcp']=df_prcp['avgPrcp']\n",
    "df_temp.head()\n",
    "df_temp.to_csv(\"Cali_Weather.csv\")"
   ]
  },
  {
   "cell_type": "markdown",
   "metadata": {},
   "source": [
    "# Washington Avg Temp and Precipitation"
   ]
  },
  {
   "cell_type": "code",
   "execution_count": 15,
   "metadata": {},
   "outputs": [
    {
     "name": "stdout",
     "output_type": "stream",
     "text": [
      "working on year 2013\n",
      "working on year 2014\n",
      "working on year 2015\n",
      "working on year 2016\n"
     ]
    }
   ],
   "source": [
    "#Create average temperature\n",
    "dates_temp_W = []\n",
    "temps_W = []\n",
    "\n",
    "#for each year from 2015-2019 ...\n",
    "for year in range(2013, 2017):\n",
    "    year = str(year)\n",
    "    print('working on year '+year)\n",
    "    \n",
    "    #make the api call\n",
    "    r = requests.get('https://www.ncdc.noaa.gov/cdo-web/api/v2/data?datasetid=GHCND&datatypeid=TAVG&limit=1000&stationid=GHCND:USW00023129&startdate='+year+'-01-01&enddate='+year+'-12-31', headers={'token':Token})\n",
    "    #load the api response as a json\n",
    "    d = json.loads(r.text)\n",
    "    #get all items in the response which are average temperature readings\n",
    "    avg_temps = [item for item in d['results'] if item['datatype']=='TAVG']\n",
    "    #get the date field from all average temperature readings\n",
    "    dates_temp_W += [item['date'] for item in avg_temps]\n",
    "    #get the actual average temperature from all average temperature readings\n",
    "    temps_W += [item['value'] for item in avg_temps]\n",
    "\n",
    "#initialize dataframe\n",
    "df_temp_W = pd.DataFrame()\n",
    "\n",
    "#populate date and average temperature fields (cast string date to datetime\n",
    "df_temp_W['date'] = [datetime.strptime(d, \"%Y-%m-%dT%H:%M:%S\") for d in dates_temp_W]\n",
    "#convert to degrees F\n",
    "df_temp_W['avgTemp'] = [float(v)/10.0*1.8 + 32 for v in temps_W]\n",
    "df_temp_W = df_temp_W.set_index('date').resample('M').mean()"
   ]
  },
  {
   "cell_type": "code",
   "execution_count": 9,
   "metadata": {},
   "outputs": [],
   "source": [
    "### initialize lists to store data\n",
    "dates_prcp_W = []\n",
    "prcp_W = []\n",
    "\n",
    "#for each year from 2015-2019 ...\n",
    "for year in range(1992, 2017):\n",
    "    year = str(year)\n",
    "#     print('working on year '+year)\n",
    "    \n",
    "    #make the api call\n",
    "    r = requests.get(f'https://www.ncdc.noaa.gov/cdo-web/api/v2/data?datasetid=GHCND&datatypeid=PRCP&limit=1000&stationid=GHCND:USC00046074&startdate='+year+'-01-01&enddate='+year+'-12-31', headers={'token':Token})\n",
    "    #load the api response as a json\n",
    "    d = json.loads(r.text)\n",
    "    #get all items in the response which are Precipitation temperature readings\n",
    "    avg_prcp = [item for item in d['results'] if item['datatype']=='PRCP']\n",
    "    #get the date field from all average Precipitation readings\n",
    "    dates_prcp_W += [item['date'] for item in avg_prcp]\n",
    "    #get the actual average Precipitation from all average Precipitation readings\n",
    "    prcp_W += [item['value'] for item in avg_prcp]\n",
    "\n",
    "#initialize dataframe\n",
    "df_prcp_W = pd.DataFrame()\n",
    "\n",
    "#populate date and average Precipitation fields (cast string date to datetime\n",
    "df_prcp_W['date'] = [datetime.strptime(d, \"%Y-%m-%dT%H:%M:%S\") for d in dates_prcp_W]\n",
    "#convert to mm to inches\n",
    "df_prcp_W['avgPrcp'] = [float(v)*0.0393701 for v in prcp_W]\n",
    "df_prcp_W = df_prcp_W.set_index('date').resample('M').mean()"
   ]
  },
  {
   "cell_type": "code",
   "execution_count": 25,
   "metadata": {},
   "outputs": [],
   "source": [
    "df_temp_W['avgPrcp']=df_prcp_W['avgPrcp']\n",
    "df_temp_W.to_csv(\"Washington_Weather.csv\")"
   ]
  },
  {
   "cell_type": "markdown",
   "metadata": {},
   "source": [
    "#  Oregon Avg Temp and Precipitation"
   ]
  },
  {
   "cell_type": "code",
   "execution_count": 11,
   "metadata": {},
   "outputs": [
    {
     "name": "stdout",
     "output_type": "stream",
     "text": [
      "working on year 2013\n",
      "working on year 2014\n",
      "working on year 2015\n",
      "working on year 2016\n"
     ]
    }
   ],
   "source": [
    "#Create average temperature\n",
    "dates_temp_O = []\n",
    "temps_O = []\n",
    "\n",
    "#for each year from 2015-2019 ...\n",
    "for year in range(2013, 2017):\n",
    "    year = str(year)\n",
    "    print('working on year '+year)\n",
    "    \n",
    "    #make the api call\n",
    "    r = requests.get('https://www.ncdc.noaa.gov/cdo-web/api/v2/data?datasetid=GHCND&datatypeid=TAVG&limit=1000&stationid=GHCND:USW00023129&startdate='+year+'-01-01&enddate='+year+'-12-31', headers={'token':Token})\n",
    "    #load the api response as a json\n",
    "    d = json.loads(r.text)\n",
    "    #get all items in the response which are average temperature readings\n",
    "    avg_temps = [item for item in d['results'] if item['datatype']=='TAVG']\n",
    "    #get the date field from all average temperature readings\n",
    "    dates_temp_O += [item['date'] for item in avg_temps]\n",
    "    #get the actual average temperature from all average temperature readings\n",
    "    temps_O += [item['value'] for item in avg_temps]\n",
    "\n",
    "#initialize dataframe\n",
    "df_temp_O = pd.DataFrame()\n",
    "\n",
    "#populate date and average temperature fields (cast string date to datetime\n",
    "df_temp_O['date'] = [datetime.strptime(d, \"%Y-%m-%dT%H:%M:%S\") for d in dates_temp_O]\n",
    "#convert to degrees F\n",
    "df_temp_O['avgTemp'] = [float(v)/10.0*1.8 + 32 for v in temps_O]\n",
    "df_temp_O = df_temp_O.set_index('date').resample('M').mean()"
   ]
  },
  {
   "cell_type": "code",
   "execution_count": 12,
   "metadata": {},
   "outputs": [],
   "source": [
    "### initialize lists to store data\n",
    "dates_prcp_O = []\n",
    "prcp_O = []\n",
    "\n",
    "#for each year from 2015-2019 ...\n",
    "for year in range(1992, 2017):\n",
    "    year = str(year)\n",
    "#     print('working on year '+year)\n",
    "    \n",
    "    #make the api call\n",
    "    r = requests.get(f'https://www.ncdc.noaa.gov/cdo-web/api/v2/data?datasetid=GHCND&datatypeid=PRCP&limit=1000&stationid=GHCND:USC00046074&startdate='+year+'-01-01&enddate='+year+'-12-31', headers={'token':Token})\n",
    "    #load the api response as a json\n",
    "    d = json.loads(r.text)\n",
    "    #get all items in the response which are Precipitation temperature readings\n",
    "    avg_prcp = [item for item in d['results'] if item['datatype']=='PRCP']\n",
    "    #get the date field from all average Precipitation readings\n",
    "    dates_prcp_O += [item['date'] for item in avg_prcp]\n",
    "    #get the actual average Precipitation from all average Precipitation readings\n",
    "    prcp_O += [item['value'] for item in avg_prcp]\n",
    "\n",
    "#initialize dataframe\n",
    "df_prcp_O = pd.DataFrame()\n",
    "\n",
    "#populate date and average Precipitation fields (cast string date to datetime\n",
    "df_prcp_O['date'] = [datetime.strptime(d, \"%Y-%m-%dT%H:%M:%S\") for d in dates_prcp_O]\n",
    "#convert to mm to inches\n",
    "df_prcp_O['avgPrcp'] = [float(v)*0.0393701 for v in prcp_O]\n",
    "df_prcp_O = df_prcp_O.set_index('date').resample('M').mean()"
   ]
  },
  {
   "cell_type": "code",
   "execution_count": 18,
   "metadata": {},
   "outputs": [
    {
     "data": {
      "text/html": [
       "<div>\n",
       "<style scoped>\n",
       "    .dataframe tbody tr th:only-of-type {\n",
       "        vertical-align: middle;\n",
       "    }\n",
       "\n",
       "    .dataframe tbody tr th {\n",
       "        vertical-align: top;\n",
       "    }\n",
       "\n",
       "    .dataframe thead th {\n",
       "        text-align: right;\n",
       "    }\n",
       "</style>\n",
       "<table border=\"1\" class=\"dataframe\">\n",
       "  <thead>\n",
       "    <tr style=\"text-align: right;\">\n",
       "      <th></th>\n",
       "      <th>avgTemp</th>\n",
       "      <th>avgPrcp</th>\n",
       "    </tr>\n",
       "    <tr>\n",
       "      <th>date</th>\n",
       "      <th></th>\n",
       "      <th></th>\n",
       "    </tr>\n",
       "  </thead>\n",
       "  <tbody>\n",
       "    <tr>\n",
       "      <th>2013-04-30</th>\n",
       "      <td>62.678000</td>\n",
       "      <td>0.411350</td>\n",
       "    </tr>\n",
       "    <tr>\n",
       "      <th>2013-05-31</th>\n",
       "      <td>67.123226</td>\n",
       "      <td>0.109220</td>\n",
       "    </tr>\n",
       "    <tr>\n",
       "      <th>2013-06-30</th>\n",
       "      <td>68.300000</td>\n",
       "      <td>0.227034</td>\n",
       "    </tr>\n",
       "    <tr>\n",
       "      <th>2013-07-31</th>\n",
       "      <td>70.316774</td>\n",
       "      <td>0.000000</td>\n",
       "    </tr>\n",
       "    <tr>\n",
       "      <th>2013-08-31</th>\n",
       "      <td>70.432903</td>\n",
       "      <td>0.000000</td>\n",
       "    </tr>\n",
       "  </tbody>\n",
       "</table>\n",
       "</div>"
      ],
      "text/plain": [
       "              avgTemp   avgPrcp\n",
       "date                           \n",
       "2013-04-30  62.678000  0.411350\n",
       "2013-05-31  67.123226  0.109220\n",
       "2013-06-30  68.300000  0.227034\n",
       "2013-07-31  70.316774  0.000000\n",
       "2013-08-31  70.432903  0.000000"
      ]
     },
     "execution_count": 18,
     "metadata": {},
     "output_type": "execute_result"
    }
   ],
   "source": [
    "df_temp_O['avgPrcp']=df_prcp_O['avgPrcp']\n",
    "df_temp_.to_csv(\"Cali_Weather.csv\")"
   ]
  },
  {
   "cell_type": "code",
   "execution_count": 19,
   "metadata": {},
   "outputs": [
    {
     "data": {
      "text/html": [
       "<div>\n",
       "<style scoped>\n",
       "    .dataframe tbody tr th:only-of-type {\n",
       "        vertical-align: middle;\n",
       "    }\n",
       "\n",
       "    .dataframe tbody tr th {\n",
       "        vertical-align: top;\n",
       "    }\n",
       "\n",
       "    .dataframe thead th {\n",
       "        text-align: right;\n",
       "    }\n",
       "</style>\n",
       "<table border=\"1\" class=\"dataframe\">\n",
       "  <thead>\n",
       "    <tr style=\"text-align: right;\">\n",
       "      <th></th>\n",
       "      <th>wine</th>\n",
       "      <th>wine_id</th>\n",
       "      <th>appellation</th>\n",
       "      <th>color</th>\n",
       "      <th>wine_type</th>\n",
       "      <th>regions</th>\n",
       "      <th>country</th>\n",
       "      <th>classification</th>\n",
       "      <th>vintage</th>\n",
       "      <th>is_primeurs</th>\n",
       "      <th>score</th>\n",
       "      <th>confidence_index</th>\n",
       "      <th>journalist_count</th>\n",
       "    </tr>\n",
       "  </thead>\n",
       "  <tbody>\n",
       "    <tr>\n",
       "      <th>0</th>\n",
       "      <td>Ridge Vineyards, Monte Bello Chardonnay, White...</td>\n",
       "      <td>120785</td>\n",
       "      <td>Santa Cruz Mountains</td>\n",
       "      <td>White</td>\n",
       "      <td>dry</td>\n",
       "      <td>California</td>\n",
       "      <td>Usa</td>\n",
       "      <td>None</td>\n",
       "      <td>2016</td>\n",
       "      <td>False</td>\n",
       "      <td>94.39</td>\n",
       "      <td>B</td>\n",
       "      <td>3</td>\n",
       "    </tr>\n",
       "    <tr>\n",
       "      <th>1</th>\n",
       "      <td>Stags' Leap Winery, Chardonnay, White, Napa Va...</td>\n",
       "      <td>129823</td>\n",
       "      <td>Napa Valley</td>\n",
       "      <td>White</td>\n",
       "      <td>dry</td>\n",
       "      <td>California</td>\n",
       "      <td>Usa</td>\n",
       "      <td>None</td>\n",
       "      <td>2016</td>\n",
       "      <td>False</td>\n",
       "      <td>89.83</td>\n",
       "      <td>A+</td>\n",
       "      <td>3</td>\n",
       "    </tr>\n",
       "    <tr>\n",
       "      <th>2</th>\n",
       "      <td>Joseph Phelps Vineyards, Freestone Chardonnay,...</td>\n",
       "      <td>89569</td>\n",
       "      <td>Sonoma Coast</td>\n",
       "      <td>White</td>\n",
       "      <td>dry</td>\n",
       "      <td>California</td>\n",
       "      <td>Usa</td>\n",
       "      <td>None</td>\n",
       "      <td>2016</td>\n",
       "      <td>False</td>\n",
       "      <td>90.73</td>\n",
       "      <td>C+</td>\n",
       "      <td>4</td>\n",
       "    </tr>\n",
       "    <tr>\n",
       "      <th>3</th>\n",
       "      <td>Crossbarn By Paul Hobbs, Chardonnay, White, So...</td>\n",
       "      <td>47377</td>\n",
       "      <td>Sonoma Coast</td>\n",
       "      <td>White</td>\n",
       "      <td>dry</td>\n",
       "      <td>California</td>\n",
       "      <td>Usa</td>\n",
       "      <td>None</td>\n",
       "      <td>2016</td>\n",
       "      <td>False</td>\n",
       "      <td>90.39</td>\n",
       "      <td>B+</td>\n",
       "      <td>3</td>\n",
       "    </tr>\n",
       "    <tr>\n",
       "      <th>4</th>\n",
       "      <td>Mount Eden Vineyards, Chardonnay, White, Santa...</td>\n",
       "      <td>107658</td>\n",
       "      <td>Santa Cruz Mountains</td>\n",
       "      <td>White</td>\n",
       "      <td>dry</td>\n",
       "      <td>California</td>\n",
       "      <td>Usa</td>\n",
       "      <td>None</td>\n",
       "      <td>2015</td>\n",
       "      <td>False</td>\n",
       "      <td>92.22</td>\n",
       "      <td>B</td>\n",
       "      <td>4</td>\n",
       "    </tr>\n",
       "  </tbody>\n",
       "</table>\n",
       "</div>"
      ],
      "text/plain": [
       "                                                wine  wine_id  \\\n",
       "0  Ridge Vineyards, Monte Bello Chardonnay, White...   120785   \n",
       "1  Stags' Leap Winery, Chardonnay, White, Napa Va...   129823   \n",
       "2  Joseph Phelps Vineyards, Freestone Chardonnay,...    89569   \n",
       "3  Crossbarn By Paul Hobbs, Chardonnay, White, So...    47377   \n",
       "4  Mount Eden Vineyards, Chardonnay, White, Santa...   107658   \n",
       "\n",
       "            appellation  color wine_type     regions country classification  \\\n",
       "0  Santa Cruz Mountains  White       dry  California     Usa           None   \n",
       "1           Napa Valley  White       dry  California     Usa           None   \n",
       "2          Sonoma Coast  White       dry  California     Usa           None   \n",
       "3          Sonoma Coast  White       dry  California     Usa           None   \n",
       "4  Santa Cruz Mountains  White       dry  California     Usa           None   \n",
       "\n",
       "   vintage  is_primeurs  score confidence_index  journalist_count  \n",
       "0     2016        False  94.39                B                 3  \n",
       "1     2016        False  89.83               A+                 3  \n",
       "2     2016        False  90.73               C+                 4  \n",
       "3     2016        False  90.39               B+                 3  \n",
       "4     2015        False  92.22                B                 4  "
      ]
     },
     "execution_count": 19,
     "metadata": {},
     "output_type": "execute_result"
    }
   ],
   "source": [
    "white_USA_df.head()"
   ]
  },
  {
   "cell_type": "code",
   "execution_count": null,
   "metadata": {},
   "outputs": [],
   "source": []
  }
 ],
 "metadata": {
  "kernelspec": {
   "display_name": "PythonData",
   "language": "python",
   "name": "pythondata"
  },
  "language_info": {
   "codemirror_mode": {
    "name": "ipython",
    "version": 3
   },
   "file_extension": ".py",
   "mimetype": "text/x-python",
   "name": "python",
   "nbconvert_exporter": "python",
   "pygments_lexer": "ipython3",
   "version": "3.7.7"
  }
 },
 "nbformat": 4,
 "nbformat_minor": 4
}
